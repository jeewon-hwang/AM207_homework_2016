{
 "cells": [
  {
   "cell_type": "markdown",
   "metadata": {},
   "source": [
    "# **AM 207**: Homework 2"
   ]
  },
  {
   "cell_type": "markdown",
   "metadata": {},
   "source": [
    "Verena Kaynig-Fittkau and Pavlos Protopapas  <br>\n",
    "**Due: 11.59 P.M. Thursday March 3rd, 2015**"
   ]
  },
  {
   "cell_type": "markdown",
   "metadata": {},
   "source": [
    "### Instructions:\n",
    "\n",
    "+ Upload your answers in an ipython notebook to Canvas.\n",
    "\n",
    "+ We will provide you imports for your ipython notebook. Please do not import additional libraries.\n",
    "\n",
    "+ Your individual submissions should use the following filenames: AM207_YOURNAME_HW2.ipynb\n",
    "\n",
    "+ Your code should be in code cells as part of your ipython notebook. Do not use a different language (or format). \n",
    "\n",
    "+ **Do not just send your code. The homework solutions should be in a report style. Be sure to add comments to your code as well as markdown cells where you describe your approach and discuss your results. **\n",
    "\n",
    "+ Please submit your notebook in an executed status, so that we can see all the results you computed. However, we will still run your code and all cells should reproduce the output when executed. \n",
    "\n",
    "+ If you have multiple files (e.g. you've added code files or images) create a tarball for all files in a single file and name it: AM207_YOURNAME_HW2.tar.gz or AM207_YOURNAME_HW2.zip\n",
    "\n",
    "\n",
    "### Have Fun!\n",
    "_ _ _ _ _"
   ]
  },
  {
   "cell_type": "code",
   "execution_count": 1,
   "metadata": {
    "collapsed": false
   },
   "outputs": [
    {
     "name": "stderr",
     "output_type": "stream",
     "text": [
      "/Users/Grace/anaconda/lib/python2.7/site-packages/matplotlib/font_manager.py:273: UserWarning: Matplotlib is building the font cache using fc-list. This may take a moment.\n",
      "  warnings.warn('Matplotlib is building the font cache using fc-list. This may take a moment.')\n"
     ]
    }
   ],
   "source": [
    "import numpy as np\n",
    "import matplotlib\n",
    "import matplotlib.pyplot as plt\n",
    "%matplotlib inline\n",
    "\n",
    "import seaborn as sns\n",
    "sns.set_style(\"white\")\n",
    "\n",
    "import time\n",
    "import timeit\n",
    "\n",
    "import scipy.stats \n",
    "import pandas as pd\n",
    "import pymc as pm\n",
    "\n",
    "import re\n",
    "import numpy as np"
   ]
  },
  {
   "cell_type": "markdown",
   "metadata": {},
   "source": [
    "# Problem 1: Geweke Convergence Test\n",
    "\n",
    "In the lecture we have seen the Geweke test as one option to test for convergence of our metropolis hastings chain. Describe in your own words how the Geweke test works and its limitations. \n",
    "\n",
    "We provide you with the following code for the Geweke test. Write comments for the marked lines and any lines you think would be good to explain in addition. \n",
    "\n",
    "Write a short explanation of what the `rhot` function does and why it is necessary. "
   ]
  },
  {
   "cell_type": "code",
   "execution_count": 94,
   "metadata": {
    "collapsed": true
   },
   "outputs": [],
   "source": [
    "# calculate autocorrelation\n",
    "def rhot(x, t):\n",
    "    n = len(x)\n",
    "    return np.corrcoef(x[0:(n-t)], x[t:n])[0,1]\n",
    "\n",
    "# \n",
    "def Geweke(trace, intervals, length):\n",
    "    nsl=length\n",
    "    #\n",
    "    jump = int(0.9*len(trace)/(2*intervals))\n",
    "    #\n",
    "    first = 0.1*len(trace)\n",
    "    \n",
    "    z =np.empty(intervals)\n",
    "    #\n",
    "    for k in np.arange(0, intervals):\n",
    "        #\n",
    "        baga = np.int(first+k*jump)\n",
    "        #\n",
    "        bagb = len(trace)/2 + k*jump\n",
    "        \n",
    "        #\n",
    "        sub_trace_a = trace[baga:baga+nsl]\n",
    "        sub_trace_b = trace[bagb:bagb+nsl]\n",
    "        \n",
    "        #\n",
    "        theta_a = np.mean(sub_trace_a)\n",
    "        theta_b = np.mean(sub_trace_b)\n",
    "        rho_a, rho_b = 1.0, 1.0\n",
    "        # \n",
    "        for i in xrange(int(0.1*nsl)):\n",
    "            #\n",
    "            rho_a += 2*rhot(sub_trace_a, i+1)\n",
    "            rho_b += 2*rhot(sub_trace_b, i+1)\n",
    "            \n",
    "        # \n",
    "        var_a  = np.var(sub_trace_a)*rho_a/length\n",
    "        var_b  = np.var(sub_trace_b)*rho_b/length\n",
    "        \n",
    "        #\n",
    "        z[k] = (theta_a-theta_b)/np.sqrt( var_a + var_b)\n",
    "    \n",
    "    return z\n"
   ]
  },
  {
   "cell_type": "code",
   "execution_count": 7,
   "metadata": {
    "collapsed": false
   },
   "outputs": [],
   "source": [
    "np.arange(0, 20)\n",
    "# np.random.choice\n",
    "np.corrcoef?\n"
   ]
  },
  {
   "cell_type": "markdown",
   "metadata": {},
   "source": [
    "# Problem 2: Message Response Times\n",
    "\n",
    "The file `hangout_chat_data.csv` contains the response times of your friend Mark to google hangout chat messages in seconds. Use a method of your choice to read the file into a data frame or a numpy array. Your goal for this problem is to model Mark's chat response time distribution in a Bayesian framework. \n",
    "\n",
    "The description of the data sounds like a Poisson distribution is a good choice for our likelihood. We have messages arriving independently of each other, and instead of the arrival time we consider the time it took Mark to respond to the messages. \n",
    "\n",
    "* Load and describe the data by plotting a histogram of the response times. \n",
    "* Derive and compute the maximum likelihood solution for a Poisson distribution.\n",
    "* Compare this to the Bayesian solution with a prior of your choice and using your own implementation of Metropolis Hastings to sample from the posterior. Make sure to describe why you chose this prior, as well as the specifics of your Metropolis Hastings implementation. \n",
    "\n",
    "* Analyze your sampling using traceplots and convergence tests. You can use the Geweke implementation given above. \n",
    "* Compare your solution to a solution using the MCMC class in pymc and write a brief discussion. Which parameters does your implementation need that the pymc implementation can do without? How do the traceplots compare? \n",
    "\n",
    "* Check your ML solution and the Bayesian solution against the data. If you know how you can use the posterior predictive for the Bayesian solution, otherwise you can use the MAP estimate or the expectation value of the posterior and compare that distribution to the data histogram. \n",
    "\n",
    "* Was our model a good choice for this problem? If yes great, if not, come up with a different Bayesian model that is better capable of capturing the data and show that it works better. \n"
   ]
  },
  {
   "cell_type": "markdown",
   "metadata": {},
   "source": [
    "## 1) Load and describe the data by plotting a histogram of the response times. "
   ]
  },
  {
   "cell_type": "code",
   "execution_count": 19,
   "metadata": {
    "collapsed": false
   },
   "outputs": [
    {
     "name": "stdout",
     "output_type": "stream",
     "text": [
      "[12 38 12 23 11 50 49 23 16  7 45 12  1  6 23 51 30 14 17 19]\n"
     ]
    }
   ],
   "source": [
    "import pandas as pd\n",
    "df=pd.read_csv('hangout_chat_data.csv', delimiter='\\r',header=None)\n",
    "message_response_times = np.array(np.transpose(df.values)[0])\n",
    "print message_response_times[:20]"
   ]
  },
  {
   "cell_type": "code",
   "execution_count": 32,
   "metadata": {
    "collapsed": false
   },
   "outputs": [
    {
     "data": {
      "text/plain": [
       "<matplotlib.text.Text at 0x10c5f4690>"
      ]
     },
     "execution_count": 32,
     "metadata": {},
     "output_type": "execute_result"
    },
    {
     "data": {
      "image/png": "[encoded data removed]",
      "text/plain": [
       "<matplotlib.figure.Figure at 0x10c45da90>"
      ]
     },
     "metadata": {},
     "output_type": "display_data"
    }
   ],
   "source": [
    "plt.hist(message_response_times, bins=30, alpha=0.4)\n",
    "plt.xlabel('Message Response Time')\n",
    "plt.ylabel('Counts')"
   ]
  },
  {
   "cell_type": "markdown",
   "metadata": {},
   "source": [
    "## 2) Derive and compute the maximum likelihood solution for a Poisson distribution."
   ]
  },
  {
   "cell_type": "markdown",
   "metadata": {},
   "source": [
    "As stated in our problem, if the likelihood of our data ($x_{1}, x_{2}, \\dots, x_{n}$) follows the Poisson distribution, then it can be written as follows : \n",
    "$$Likelihood = P(\\bf{x}|\\lambda) = e^{-\\lambda}\\frac{\\lambda^{\\bf{x}}}{\\bf{x}!}$$\n",
    "As each data is independent to each other, the formula above can be written as the product of each data point Likelihood.\n",
    "$$P(\\bf{x}|\\lambda) = \\prod_{n=1}^{N} P(x_{i}|\\lambda) = e^{-\\lambda}\\frac{\\lambda^{x_{i}}}{x_{i}!}$$\n",
    "To estimate Maximum Likelihood, let's have log-likelihood.\n",
    "$$Log Likelihood =\\prod_{n=1}^{N} P(x_{i}|\\lambda) = e^{-\\lambda}\\frac{\\lambda^{x_{i}}}{x_{i}!}\n",
    "= \\sum_{n=1}^{N} \\Big(-\\lambda + x_{i}\\ln\\lambda - \\ln(x_{i}!)\\Big) = -N\\lambda + \\ln\\lambda \\sum_{n=1}^{N}x_{i}- \\sum_{n=1}^{N}\\ln(x_{i}!)\\Big)$$\n",
    "If we take derivative w.r.t $\\lambda$,\n",
    "$$\\frac{\\partial}{\\partial \\lambda}Log Likelihood = -N + \\frac{\\sum_{n=1}^{N}x_{i}}{\\lambda} = 0$$\n",
    "$$\\therefore \\lambda = \\frac{1}{N}\\sum_{n=1}^{N}x_{i}$$\n",
    "\n",
    "Therefore, lambda from MLE solution is the same as mean value of our data set."
   ]
  },
  {
   "cell_type": "code",
   "execution_count": 37,
   "metadata": {
    "collapsed": false
   },
   "outputs": [
    {
     "name": "stdout",
     "output_type": "stream",
     "text": [
      "lambda_MLE : 18.0413533835\n"
     ]
    }
   ],
   "source": [
    "lambda_MLE = message_response_times.mean()\n",
    "print \"lambda_MLE :\", lambda_MLE"
   ]
  },
  {
   "cell_type": "markdown",
   "metadata": {},
   "source": [
    "## 3) Compare this to the Bayesian solution with a prior of your choice and using your own implementation of Metropolis Hastings to sample from the posterior. Make sure to describe why you chose this prior, as well as the specifics of your Metropolis Hastings implementation. "
   ]
  },
  {
   "cell_type": "markdown",
   "metadata": {},
   "source": [
    "* the reason why I chose the prior to be Normal distribution is that according to piazza, i read that 1) Use empirical Bayesian methods: this amounts to marginalizing out the parameter of inferential interest and treating the distribution of the data as a function of prior parameters (aka hyperparameters). Then standard techniques of inference, such as maximum likelihood, can be used to estimate the hyperparameters."
   ]
  },
  {
   "cell_type": "markdown",
   "metadata": {},
   "source": [
    "### 3-1) Define Prior, Likelihood and Posterior"
   ]
  },
  {
   "cell_type": "code",
   "execution_count": 44,
   "metadata": {
    "collapsed": false
   },
   "outputs": [
    {
     "data": {
      "text/plain": [
       "266"
      ]
     },
     "execution_count": 44,
     "metadata": {},
     "output_type": "execute_result"
    }
   ],
   "source": [
    "len(message_response_times)"
   ]
  },
  {
   "cell_type": "code",
   "execution_count": null,
   "metadata": {
    "collapsed": true
   },
   "outputs": [],
   "source": [
    "## invLogit this is the same as a sigmoid\n",
    "logitInv= lambda x: np.exp(x)/(1.0+np.exp(x))\n",
    "\n",
    "## posterior\n",
    "def calc_posterior(a, b, y=Y, x=X):\n",
    "    # Calculate joint posterior, given values for a, b \n",
    "    # x: dosage\n",
    "    # y: number of deaths\n",
    "    # a + b: parameters of the model\n",
    "    p = np.product((logitInv(a+b*x)**y)*(1.0-logitInv( a+b*x))**(n-y))\n",
    "    \n",
    "    return p"
   ]
  },
  {
   "cell_type": "code",
   "execution_count": 47,
   "metadata": {
    "collapsed": false
   },
   "outputs": [
    {
     "name": "stdout",
     "output_type": "stream",
     "text": [
      "[ 0.36787944  0.18393972]\n"
     ]
    }
   ],
   "source": [
    "len(prior_problem2(message_response_times))\n",
    "print likelihood_problem2([1,2], 1)"
   ]
  },
  {
   "cell_type": "code",
   "execution_count": 52,
   "metadata": {
    "collapsed": false
   },
   "outputs": [
    {
     "name": "stdout",
     "output_type": "stream",
     "text": [
      "[20 22]\n"
     ]
    }
   ],
   "source": [
    "print np.product(np.array([1,2]))*np.array([10,11])"
   ]
  },
  {
   "cell_type": "code",
   "execution_count": 73,
   "metadata": {
    "collapsed": false
   },
   "outputs": [],
   "source": [
    "# ===============================================\n",
    "# Define Prior : P(lambda)\n",
    "# based on Normal distribution\n",
    "# ===============================================\n",
    "mean_prior_problem2 = lambda_MLE #18.04...\n",
    "std_prior_problem2 = 10.0\n",
    "\n",
    "prior_problem2 = lambda _lambda : scipy.stats.norm(mean_prior_problem2, std_prior_problem2).pdf(_lambda)\n",
    "\n",
    "\n",
    "# ===============================================\n",
    "# Define Likelihood : P(X | lambda)\n",
    "# based on Poisson distribution\n",
    "# ===============================================\n",
    "likelihood_problem2 = lambda x, _lambda : scipy.stats.poisson.pmf(x, _lambda)\n",
    "\n",
    "\n",
    "# ===============================================\n",
    "# Define Posterior : P(lambda | X)\n",
    "# ===============================================\n",
    "def calc_posterior(_lambda):\n",
    "    # since likelihood is product of xi, we need to sum them up\n",
    "    # and likelihood is very small value, so we'll take log\n",
    "    # since we only need to compare the value, not the exact value\n",
    "#     print \"likelihood : \", np.product(likelihood_problem2(message_response_times, _lambda))\n",
    "#     print \"prior : \", prior_problem2(_lambda)\n",
    "    log_likelihood = np.log(likelihood_problem2(message_response_times, _lambda))\n",
    "    sum_of_log_likelihood = np.sum(log_likelihood)\n",
    "    log_prior = np.log(prior_problem2(_lambda))\n",
    "    p =  sum_of_log_likelihood + log_prior\n",
    "    return p"
   ]
  },
  {
   "cell_type": "code",
   "execution_count": null,
   "metadata": {
    "collapsed": true
   },
   "outputs": [],
   "source": []
  },
  {
   "cell_type": "code",
   "execution_count": 74,
   "metadata": {
    "collapsed": false
   },
   "outputs": [
    {
     "data": {
      "text/plain": [
       "-605.89881895250426"
      ]
     },
     "execution_count": 74,
     "metadata": {},
     "output_type": "execute_result"
    }
   ],
   "source": [
    "np.sum(np.log(scipy.stats.poisson.pmf(message_response_times[:10], 1)))"
   ]
  },
  {
   "cell_type": "code",
   "execution_count": 80,
   "metadata": {
    "collapsed": true
   },
   "outputs": [],
   "source": [
    "rnorm = np.random.normal\n",
    "runif = np.random.rand\n",
    "\n",
    "def metropolis(n_iterations, initial_values, prop_std, doPrint=True):\n",
    "    #################################################################\n",
    "    # function to sample using Metropolis \n",
    "    # (assumes proposal distribution is symmetric)\n",
    "    # \n",
    "    # n_iterations:  number of iterations\n",
    "    # initial_values: multidimensional start position for our chain\n",
    "    # prop_std: standard deviation for Gaussian proposal distribution \n",
    "    ##################################################################\n",
    "    \n",
    "    \n",
    "    #np.random.seed(seed=1)\n",
    "    n_params = len(initial_values)\n",
    "            \n",
    "    # Initial proposal standard deviations\n",
    "    # generates a list of length n_params\n",
    "    #prop_sd = [prop_std]*n_params\n",
    "    prop_sd = prop_std\n",
    "    \n",
    "    # Initialize trace for parameters\n",
    "    trace = np.empty((n_iterations+1, n_params))\n",
    "    \n",
    "    # Set initial values\n",
    "    trace[0] = initial_values\n",
    "        \n",
    "    # Calculate joint posterior for initial values\n",
    "    # the * assigns the arguments of the function according to the list elements\n",
    "    current_prob = calc_posterior(*trace[0])\n",
    "    \n",
    "    # Initialize acceptance counts\n",
    "    # We can use this to tune our step size\n",
    "    accepted = [0]*n_params\n",
    "    \n",
    "    for i in range(n_iterations):\n",
    "    \n",
    "        if not i%10000 and doPrint: \n",
    "            print 'Iterations left: ', n_iterations-i\n",
    "    \n",
    "        # Grab current parameter values\n",
    "        current_params = trace[i]\n",
    "    \n",
    "        # Get current value for parameter j\n",
    "        p = trace[i].copy() \n",
    "        \n",
    "        # loop over all dimensions\n",
    "        for j in range(n_params):\n",
    "            # proposed new value\n",
    "            theta = rnorm(current_params[j], prop_sd[j])\n",
    "            #print theta\n",
    "            \n",
    "            # Insert new value \n",
    "            p[j] = theta\n",
    "    \n",
    "            # Calculate posterior with proposed value\n",
    "            proposed_prob = calc_posterior(*p)\n",
    "    \n",
    "            # Log-acceptance rate\n",
    "            alpha = proposed_prob - current_prob\n",
    "    \n",
    "            # Sample a uniform random variate\n",
    "            u = np.log(runif())\n",
    "    \n",
    "            # Test proposed value\n",
    "            if (u) < alpha:\n",
    "                # Accept\n",
    "                trace[i+1,j] = theta\n",
    "                current_prob = proposed_prob\n",
    "                accepted[j] += 1\n",
    "            else:\n",
    "                # Stay put\n",
    "                trace[i+1,j] = trace[i,j]\n",
    "            \n",
    "            # update p so we search the next dimension according\n",
    "            # to the current result\n",
    "            p[j] = trace[i+1,j]\n",
    "    \n",
    "    # return our samples and the number of accepted steps\n",
    "    return trace, accepted"
   ]
  },
  {
   "cell_type": "markdown",
   "metadata": {},
   "source": [
    "### Acceptance rate should be near 0.3"
   ]
  },
  {
   "cell_type": "markdown",
   "metadata": {},
   "source": [
    "Let's look at the acceptance ratio to tune the stepsize Note that this most probably should be better done after the burn in, but I don't want the simulations to run for too long during the lecture"
   ]
  },
  {
   "cell_type": "code",
   "execution_count": 81,
   "metadata": {
    "collapsed": false
   },
   "outputs": [
    {
     "data": {
      "text/plain": [
       "array([ 4.76157335])"
      ]
     },
     "execution_count": 81,
     "metadata": {},
     "output_type": "execute_result"
    }
   ],
   "source": [
    "np.random.rand(1)*10"
   ]
  },
  {
   "cell_type": "code",
   "execution_count": 90,
   "metadata": {
    "collapsed": false
   },
   "outputs": [
    {
     "name": "stdout",
     "output_type": "stream",
     "text": [
      "[ 0.318]\n"
     ]
    },
    {
     "data": {
      "image/png": "[encoded data removed]",
      "text/plain": [
       "<matplotlib.figure.Figure at 0x10db75450>"
      ]
     },
     "metadata": {},
     "output_type": "display_data"
    }
   ],
   "source": [
    "n_iter = 500\n",
    "acc_ratios = []\n",
    "for i in range(100):\n",
    "    start_lambda = np.random.rand(1)*10\n",
    "    trace, acc = metropolis(n_iter, (start_lambda), [1.0], doPrint=False)\n",
    "    acc_ratios.append(acc/np.double(n_iter))\n",
    "\n",
    "acc_ratios = np.array(acc_ratios)\n",
    "plt.hist(acc_ratios[:,0])\n",
    "plt.xlabel(\"Lambda acceptance ratio\")\n",
    "# plt.subplot(1,2,2)\n",
    "# plt.hist(acc_ratios[:,1])\n",
    "# plt.xlabel(\"beta acceptance ratio\")\n",
    "\n",
    "print np.mean(acc_ratios, axis=0)"
   ]
  },
  {
   "cell_type": "markdown",
   "metadata": {},
   "source": [
    "### Now do sample from MH"
   ]
  },
  {
   "cell_type": "code",
   "execution_count": 93,
   "metadata": {
    "collapsed": false
   },
   "outputs": [
    {
     "name": "stdout",
     "output_type": "stream",
     "text": [
      "Iterations left:  100000\n",
      "Iterations left:  90000\n",
      "Iterations left:  80000\n",
      "Iterations left:  70000\n",
      "Iterations left:  60000\n",
      "Iterations left:  50000\n",
      "Iterations left:  40000\n",
      "Iterations left:  30000\n",
      "Iterations left:  20000\n",
      "Iterations left:  10000\n",
      "[ 0.30461]\n"
     ]
    }
   ],
   "source": [
    "n_iter = 100000\n",
    "trace, acc = metropolis(n_iter, (start_lambda), [1.0])\n",
    "print acc/np.double(n_iter)"
   ]
  },
  {
   "cell_type": "markdown",
   "metadata": {},
   "source": [
    "### Now see our Samples"
   ]
  },
  {
   "cell_type": "code",
   "execution_count": 95,
   "metadata": {
    "collapsed": true
   },
   "outputs": [],
   "source": [
    "burnin = 10000    # MY BURN IN \n",
    "# throw away the burnin samples\n",
    "# alpha = trace[burnin:,0]; beta=trace[burnin:,1]\n",
    "lambda_MH = trace[burnin:, 0]"
   ]
  },
  {
   "cell_type": "code",
   "execution_count": 99,
   "metadata": {
    "collapsed": false
   },
   "outputs": [
    {
     "data": {
      "text/plain": [
       "<matplotlib.text.Text at 0x10d58f090>"
      ]
     },
     "execution_count": 99,
     "metadata": {},
     "output_type": "execute_result"
    },
    {
     "data": {
      "image/png": "[encoded data removed]",
      "text/plain": [
       "<matplotlib.figure.Figure at 0x10d380750>"
      ]
     },
     "metadata": {},
     "output_type": "display_data"
    }
   ],
   "source": [
    "# histogram of alpha\n",
    "# plt.subplot(2,1,1) \n",
    "fig=plt.hist(lambda_MH, bins=100, normed=True)\n",
    "xx= np.linspace(-3,7,101)\n",
    "# pp_a = np.sum(pp, axis=1)\n",
    "# plt.plot(xx, pp_a*6.0, 'r', label=u'True distribution') \n",
    "plt.legend()\n",
    "plt.xlabel(\"Lambda\")\n",
    "plt.ylabel(\"counts\")\n",
    "\n",
    "# histogram of beta\n",
    "# plt.subplot(2,1,2) \n",
    "# fig=plt.hist(beta, bins=100, normed=True)\n",
    "# xx = np.linspace(-10, 30,100)\n",
    "# pp_b = np.sum(pp, axis=0)\n",
    "# plt.plot(xx, pp_b*1.5, 'r', label=u'True distribution') \n",
    "# plt.legend()\n",
    "# plt.xlabel(\"beta\")\n",
    "# plt.ylabel(\"counts\")"
   ]
  },
  {
   "cell_type": "markdown",
   "metadata": {},
   "source": [
    "## 4) Analyze your sampling using traceplots and convergence tests. You can use the Geweke implementation given above. "
   ]
  },
  {
   "cell_type": "markdown",
   "metadata": {},
   "source": [
    "# Problem 3: Markov Chains\n",
    "\n",
    "* Given the following transition matrix, examine if the corresponding Markov Chain is irreducible and aperiodic. Note: No formal proof necessary, but you should give a solid argumentation.\n",
    "\n",
    "$$ P = \\left( \n",
    "\\begin{array}{ccccc}\n",
    "0.0 & 0.4 & 0.6 & 0.0 & 0.0 \\\\\n",
    "0.65 & 0.0 & 0.35 & 0.0 & 0.0 \\\\\n",
    "0.32 & 0.68 & 0.0 & 0.0 & 0.0 \\\\\n",
    "0.0 & 0.0 & 0.0 & 0.12 & 0.88 \\\\\n",
    "0.0 & 0.0 & 0.0 & 0.56 & 0.44 \n",
    "\\end{array}\n",
    "\\right ) $$\n",
    "\n"
   ]
  },
  {
   "cell_type": "markdown",
   "metadata": {},
   "source": [
    "# Problem 4: The Evidence \n",
    "\n",
    "In lectures we mostly concentrate on the likelihood and the prior and regard the evidence as a mere normalization factor. However, the evidence can be quite useful. In this problem you will compare different models by computing the evidence for each model, aka the probability that randomly selected parameters from a given model class would generate the data $X$.\n",
    "\n",
    "As our models we compare polynomials of degree 0 to 4. For example for degree 2 we have $y = a_0 + a_1 \\cdot x + a_2 \\cdot x^2 + \\epsilon$ where $\\epsilon \\sim N(0, \\sigma) $ and $\\theta = [a_0, a_1, a_2, \\sigma]$. Assume that for all polynomials $a_i \\sim \\text{Expo}(1)$ and $\\sigma \\sim \\text{Inverse Gamma}(1,1)$.\n",
    "\n",
    "\n",
    "Bayes' theorem states that:\n",
    "$$\n",
    "P(\\theta|x)=\\frac{P(x|\\theta)P(\\theta)}{P(x)}\n",
    "$$\n",
    "$P(\\theta)$ is the prior, $P(x|\\theta)$ is the likelihood, $P(x)$ is called the evidence, and $P(\\theta|x)$ is the posterior.\n",
    "\n",
    "Your tasks are:\n",
    "\n",
    "* Write down the mathematical equation of the evidence in terms of the likelihood and the prior. You don't need to solve the integral analytically, just write down its formula.\n",
    "* Now you have the evidence in the form of an integral. Solve it by using importance sampling. What is a good choice for your importance sampling distribution?\n",
    "* Compare the evidence for polynomials of degree 0 to 4. Which polynomial wins?"
   ]
  },
  {
   "cell_type": "code",
   "execution_count": 7,
   "metadata": {
    "collapsed": false
   },
   "outputs": [],
   "source": [
    "# Here is your data for the problem:\n",
    "data = np.array([[ -1.85519254,  -2.7009541 ],\n",
    "       [  4.38291824,  19.61735369],\n",
    "       [  2.29495208,   3.96481822],\n",
    "       [  0.02075668,   8.00646088],\n",
    "       [  0.54097177,   2.8872262 ]])\n",
    "\n",
    "x=data[:,0]\n",
    "y=data[:,1]"
   ]
  },
  {
   "cell_type": "markdown",
   "metadata": {},
   "source": [
    "# Problem 5: Which YouTube Videos to Watch\n",
    "\n",
    "Youtube videos have a like and an unlike flag. We can use these up and down votes on the videos to determine if a video is worth watching. However, it is not immediately obvious how to rank a video with just 3 up and 0 down rankings against a video with 300 up and 100 down votes. We will address this problem using a Bayesian approach.\n",
    "\n",
    "Build two Bayesian models for the average upvote rate of a video. Both models should use the same likelihood, but different priors. Use one prior where people in general are rather undecided about videos, and one where people tend to be very opinionated. Compare the resulting posteriors for each video. How does the different choice of prior change your results? \n",
    "\n",
    "Given that there are so many videos on YouTube we want a really conservative way to decide if it is worth watching. Compute the 5th percentile for the posterior of each video and rank the videos according to this value. Is the 5th percentile a good indicator for the ranking? What are the benefits, what are potential drawbacks?"
   ]
  },
  {
   "cell_type": "code",
   "execution_count": 13,
   "metadata": {
    "collapsed": true
   },
   "outputs": [],
   "source": [
    "# Here is the [upvote, downvote] data for 4 different videos:\n",
    "video_votes = np.array([[3,0],[300,100],[2,2],[200,100]])"
   ]
  }
 ],
 "metadata": {
  "kernelspec": {
   "display_name": "Python 2",
   "language": "python",
   "name": "python2"
  },
  "language_info": {
   "codemirror_mode": {
    "name": "ipython",
    "version": 2
   },
   "file_extension": ".py",
   "mimetype": "text/x-python",
   "name": "python",
   "nbconvert_exporter": "python",
   "pygments_lexer": "ipython2",
   "version": "2.7.11"
  }
 },
 "nbformat": 4,
 "nbformat_minor": 0
}
