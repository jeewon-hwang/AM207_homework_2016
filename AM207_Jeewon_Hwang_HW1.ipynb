{
 "cells": [
  {
   "cell_type": "markdown",
   "metadata": {},
   "source": [
    "# **AM 207**: Homework 1"
   ]
  },
  {
   "cell_type": "markdown",
   "metadata": {},
   "source": [
    "Verena Kaynig-Fittkau and Pavlos Protopapas  <br>\n",
    "**Due: 11.59 P.M. Thursday February 18th, 2015**"
   ]
  },
  {
   "cell_type": "markdown",
   "metadata": {},
   "source": [
    "### Instructions:\n",
    "\n",
    "+ Upload your answers in an ipython notebook to Canvas.\n",
    "\n",
    "+ We will provide you imports for your ipython notebook. Please do not import additional libraries.\n",
    "\n",
    "+ Your individual submissions should use the following filenames: AM207_YOURNAME_HW1.ipynb\n",
    "\n",
    "+ Your code should be in code cells as part of your ipython notebook. Do not use a different language (or format). \n",
    "\n",
    "+ **Do not just send your code. The homework solutions should be in a report style. Be sure to add comments to your code as well as markdown cells where you describe your approach and discuss your results. **\n",
    "\n",
    "+ Please submit your notebook in an **executed** status, so that we can see all the results you computed. However, we will still run your code and all cells should reproduce the output when executed. \n",
    "\n",
    "+ If you have multiple files (e.g. you've added code files or images) create a tarball for all files in a single file and name it: AM207_YOURNAME_HW1.tar.gz or AM207_YOURNAME_HW1.zip\n",
    "\n",
    "\n",
    "### Have Fun!\n",
    "_ _ _ _ _"
   ]
  },
  {
   "cell_type": "code",
   "execution_count": 167,
   "metadata": {
    "collapsed": false
   },
   "outputs": [],
   "source": [
    "import numpy as np\n",
    "import matplotlib\n",
    "import matplotlib.pyplot as plt\n",
    "from mpl_toolkits.mplot3d import Axes3D\n",
    "%matplotlib inline\n",
    "\n",
    "import seaborn as sns\n",
    "sns.set_style(\"white\")\n",
    "\n",
    "import time\n",
    "\n",
    "import scipy.stats "
   ]
  },
  {
   "cell_type": "markdown",
   "metadata": {},
   "source": [
    "# Problem 1: By a Needles Length\n",
    "\n",
    "![Alt Buffon Needle](figures/Buffon_needle.gif)\n",
    "We discussed how to use Buffon's needle to estimate $\\pi$ during lecture, using the probability of the needle crossing a line of a floor tile. Using Monte Carlo simulation, estimate the probability of the needle crossing a floor line as a function of the needle's length. Assume that the distance between floor lines is 1 unit, and your needle manufacturer provides you with needles of different length in 0.1 increments with a maximum length of 1 unit. Plot a histogram of your results and compare your results to the analytical solution from the lecture:\n",
    "$$P = \\frac{2 \\cdot l}{t \\cdot \\pi}$$\n",
    "\n",
    "where $l$ is the length of the needle and $t$ is the distance beweent the floor tiles\n",
    "\n",
    "In a next step extend your simulation to a maximum needle length of 2 units, still using 0.1 increments. Compare your results to the same formula for the intersection. Why do your results now diverge from the analytical solution given above? What would you need to do to correct the analytical formula? It is ok to just describe the integral you need to solve analytically, and why it looks this way. No need to actually do the integration by hand. "
   ]
  },
  {
   "cell_type": "markdown",
   "metadata": {},
   "source": [
    "**Please answer this problem by adding cells here.**"
   ]
  },
  {
   "cell_type": "code",
   "execution_count": 130,
   "metadata": {
    "collapsed": true
   },
   "outputs": [],
   "source": [
    "# =================================\n",
    "# number of samples\n",
    "# =================================\n",
    "N_total = 10000.0 \n",
    "\n",
    "# =================================\n",
    "# number of trials\n",
    "# =================================\n",
    "N_trials = 1000"
   ]
  },
  {
   "cell_type": "code",
   "execution_count": 160,
   "metadata": {
    "collapsed": false
   },
   "outputs": [
    {
     "name": "stderr",
     "output_type": "stream",
     "text": [
      "/Users/Grace/anaconda/lib/python2.7/site-packages/ipykernel/__main__.py:22: DeprecationWarning: using a non-integer number instead of an integer will result in an error in the future\n",
      "/Users/Grace/anaconda/lib/python2.7/site-packages/ipykernel/__main__.py:23: DeprecationWarning: using a non-integer number instead of an integer will result in an error in the future\n"
     ]
    }
   ],
   "source": [
    "# =================================\n",
    "# length of the needle [0.1, 0.2, ..., 2.0]\n",
    "# =================================\n",
    "needles_length = np.arange(0.1, 2.1, 0.1)\n",
    "\n",
    "# =================================\n",
    "# lists for saving data\n",
    "# =================================\n",
    "plot_p_list = []\n",
    "std_list = []\n",
    "actual_p_list = []\n",
    "\n",
    "\n",
    "for needle in needles_length:\n",
    "    tmp_p_list = []\n",
    "    for i in range(N_trials):\n",
    "        # =================================\n",
    "        # drawing random points uniform\n",
    "        # 1) x : distance of the needle center to the closest line [0, 1/2 unit]\n",
    "        # 2) theta : acute angle of the needle and the closest line [0, pi/2]\n",
    "        # =================================\n",
    "        x = np.random.uniform(low=0, high=1./2, size=N_total)\n",
    "        theta = np.random.uniform(low=0, high=np.pi/2, size=N_total)\n",
    "\n",
    "\n",
    "        # =================================\n",
    "        # needle intersects the line if l/2 >= x/sin(theta),\n",
    "        # therefore we can only compare l >= (2x)/sin(theta)\n",
    "        # =================================\n",
    "        distance = 2*x/np.sin(theta)\n",
    "\n",
    "        \n",
    "        # =================================\n",
    "        # check if the needles intersect the line\n",
    "        # =================================\n",
    "        does_intersect = distance<=needle\n",
    "        N_intersect = np.sum(does_intersect)\n",
    "        p_of_intersect = N_intersect/N_total\n",
    "        tmp_p_list.append(p_of_intersect)\n",
    "\n",
    "    # =================================\n",
    "    # Get MEAN & STD to plot\n",
    "    # =================================\n",
    "    plot_p_list.append(np.mean(tmp_p_list))\n",
    "    std_list.append(np.std(tmp_p_list))\n",
    "    \n",
    "    # =================================\n",
    "    # Analytical solution P\n",
    "    # =================================\n",
    "    actual_p_list.append(2*needle/np.pi)"
   ]
  },
  {
   "cell_type": "code",
   "execution_count": 165,
   "metadata": {
    "collapsed": false
   },
   "outputs": [
    {
     "data": {
      "image/png": "[encoded data removed]",
      "text/plain": [
       "<matplotlib.figure.Figure at 0x12487c350>"
      ]
     },
     "metadata": {},
     "output_type": "display_data"
    }
   ],
   "source": [
    "# =================================\n",
    "# Plot\n",
    "# =================================\n",
    "bar_width = 0.07\n",
    "opacity = 0.4\n",
    "error_config = {'ecolor': '0.3'}\n",
    "fig = plt.figure(figsize=(10, 6))\n",
    "\n",
    "plt.bar(needles_length, plot_p_list, bar_width, alpha=opacity, yerr=std_list, error_kw=error_config)\n",
    "plt.scatter(needles_length+0.01, actual_p_list, color='red', label='anaylytical solution')\n",
    "(_, caps, _) = plt.errorbar(needles_length+bar_width/2.0, plot_p_list, yerr=std_list, linestyle=\"None\")\n",
    "\n",
    "for cap in caps:\n",
    "    cap.set_color('black')\n",
    "    cap.set_markeredgewidth(1)\n",
    "\n",
    "\n",
    "plt.ylim(0, 1.4)\n",
    "plt.xlim(0.1, 2.1)\n",
    "plt.legend()\n",
    "plt.xlabel(\"l = needle length\")\n",
    "plt.ylabel(\"P(l)\")\n",
    "plt.title('Probability of the needle crossing a floor')\n",
    "plt.xticks(needles_length+bar_width/2.0, needles_length)\n",
    "plt.show()"
   ]
  },
  {
   "cell_type": "markdown",
   "metadata": {},
   "source": [
    "### Q. Why do your results now diverge from the analytical solution given above? What would you need to do to correct the analytical formula? It is ok to just describe the integral you need to solve analytically, and why it looks this way. No need to actually do the integration by hand. "
   ]
  },
  {
   "cell_type": "markdown",
   "metadata": {},
   "source": [
    "Because the analytical solution $P = \\frac{2 \\cdot l}{t \\cdot \\pi}$ was derived with the assumption that $l < t $, so we could take integral over $x$ from 0 to $\\frac{l}{2}sin(\\theta)$ as $\\frac{l}{2}sin(\\theta) < \\frac{t}{2}$ . To correct the formula, we need to change the integral range of x based on $l$ value because as $l$ gets increased, $\\frac{l}{2}sin(\\theta)$ might be bigger than $\\frac{\\pi}{2}$ which we set as the limit for x value\n",
    ". Therefore, if $\\frac{l}{2}sin(\\theta) < \\frac{t}{2}$ then we take integral from 0 to $\\frac{l}{2}sin(\\theta)$, otherwise take integral from 0 to $\\frac{t}{2}$.\n",
    "$$P = \\int_{\\theta = 0}^\\frac{\\pi}{2} \\int_{x = 0}^{minimum(\\frac{l}{2}sin(\\theta), \\frac{t}{2})} \\frac{4}{t \\cdot \\pi} \\,dx \\,d\\theta$$"
   ]
  },
  {
   "cell_type": "markdown",
   "metadata": {},
   "source": [
    "# Problem 2: Simple Integration\n",
    "\n",
    "Write a function that estimates the value of a given one dimensional integral Monte Carlo style. \n",
    "The function should have the following signature:\n",
    "\n",
    "`estimate_integral_MC(function_to_integrate, lower_bound, upper_bound, number_of_samples, number_of_tries)`\n",
    "\n",
    "Where `number_of_tries` is used to calculate the standard deviation of the estimated value of the integral. \n",
    "\n",
    "Test your function by solving the following integrals:\n",
    "\n",
    "* $ \\int_0^3 x^{\\frac{x}{4}} \\,dx$\n",
    "* $ \\int_0^1 \\log x \\cdot \\log(1-x) \\,dx $.\n"
   ]
  },
  {
   "cell_type": "markdown",
   "metadata": {},
   "source": [
    "**Please answer this problem by adding cells here.**"
   ]
  },
  {
   "cell_type": "code",
   "execution_count": 177,
   "metadata": {
    "collapsed": true
   },
   "outputs": [],
   "source": [
    "number_of_samples = 10000\n",
    "number_of_tries = 1000"
   ]
  },
  {
   "cell_type": "code",
   "execution_count": 178,
   "metadata": {
    "collapsed": true
   },
   "outputs": [],
   "source": [
    "def estimate_integral_MC(function_to_integrate, lower_bound, upper_bound, number_of_samples, number_of_tries):\n",
    "    estimates = np.zeros(number_of_tries)\n",
    "\n",
    "    for i in np.arange(0, number_of_tries):    \n",
    "        #1. N values uniformly drawn from a to b\n",
    "        X = np.random.uniform(low=lower_bound, high=upper_bound, size=number_of_samples)\n",
    "\n",
    "        #2. Compute f(X)\n",
    "        Y = function_to_integrate(X)   \n",
    "        # and the average\n",
    "        f_average = np.sum(Y)/float(number_of_samples)\n",
    "\n",
    "        #3. estimate value of integral\n",
    "        estimates[i] = (upper_bound - lower_bound) * f_average;\n",
    "\n",
    "    print \"Monte Carlo estimate :\", np.mean(estimates)\n",
    "    print \"Error (Standard deviation) :\", np.std(estimates)"
   ]
  },
  {
   "cell_type": "markdown",
   "metadata": {},
   "source": [
    "### 1) Estimating $ \\int_0^3 x^{\\frac{x}{4}} \\,dx$"
   ]
  },
  {
   "cell_type": "code",
   "execution_count": 180,
   "metadata": {
    "collapsed": false
   },
   "outputs": [
    {
     "name": "stdout",
     "output_type": "stream",
     "text": [
      "Monte Carlo estimate : 3.91543289886\n",
      "Error (Standard deviation) : 0.0116518465716\n"
     ]
    }
   ],
   "source": [
    "def f_1(x):\n",
    "    return x**(x/4.0) \n",
    "\n",
    "estimate_integral_MC(f_1, 0, 3, number_of_samples, number_of_tries)"
   ]
  },
  {
   "cell_type": "markdown",
   "metadata": {},
   "source": [
    "### 2) Estimating $ \\int_0^1 \\log x \\cdot \\log(1-x) \\,dx $"
   ]
  },
  {
   "cell_type": "code",
   "execution_count": 181,
   "metadata": {
    "collapsed": false
   },
   "outputs": [
    {
     "name": "stdout",
     "output_type": "stream",
     "text": [
      "Monte Carlo estimate : 0.355075742098\n",
      "Error (Standard deviation) : 0.00126734791918\n"
     ]
    }
   ],
   "source": [
    "def f_2(x):\n",
    "    return np.log(x)*np.log(1-x)\n",
    "\n",
    "estimate_integral_MC(f_2, 0, 1, number_of_samples, number_of_tries)"
   ]
  },
  {
   "cell_type": "markdown",
   "metadata": {},
   "source": [
    "# Problem 3: The Donut Estimation\n",
    "\n",
    "You bought a nice donut for yourself and decided to eat it in the evening while working on your AM207 assignments. \n",
    "Unfortunately you live in a shared apartment and your roommate got hold of the donut in the kitchen. It seems that he first\n",
    "cut off a small piece from the bottom, but then discovered how delicious the donut was and proceeded to cut off an additional large part. Discovering the donut theft in the evening you decide to confront your roommate, but you want to present hard facts and estimate how much of your original donut was left. \n",
    "\n",
    "Think of the donut as a 3D object(refer to the following picture). You model the donut as a torus centered at the origin`(0,0,0)` with outer radius `R=4` and inner radius `r=2`. Points $(x,y,z)$ inside the torus then are described by the following condition: \n",
    "$$z^2 + (\\sqrt{x^2 + y^2} - c)^2 \\leq a^2,$$\n",
    "where $c$ is the radius from origin to the center of the torus tube, and $a$ is the radius of the donut tube, the cross section of the donut tube is a circle.\n",
    "\n",
    "Your roomates cuts were first parallel to the x axis at y = -3, and then parallel to the y axis at x = 1.\n",
    "\n",
    "To estimate the weight of the donut you need to solve the integral\n",
    "\n",
    "$$ \\int_V \\rho \\,dx \\,dy \\,dz $$.\n",
    "\n",
    "Where $\\rho$ is the density of the donut and $V$ is the volume. As you are just interested in the percentage of the whole donut you got to eat, you can just assume $\\rho=1$.\n",
    "\n",
    "The weight of the whole original donut then was:\n",
    "\n",
    "$$ (\\pi a^2)\\cdot(2 \\cdot \\pi \\cdot c) $$\n",
    "\n",
    "What is the percentage of the donut your room mate left for you to eat? Don't forget to estimate the error as well!\n",
    "\n",
    "\n"
   ]
  },
  {
   "cell_type": "markdown",
   "metadata": {},
   "source": [
    "**Please answer this problem by adding cells here.**"
   ]
  },
  {
   "cell_type": "code",
   "execution_count": 417,
   "metadata": {
    "collapsed": false
   },
   "outputs": [
    {
     "name": "stdout",
     "output_type": "stream",
     "text": [
      "Monte Carlo estimate of % of donut left : 53.9753194101\n",
      "Error (Standard Deviation) : 0.60160050305\n"
     ]
    },
    {
     "name": "stderr",
     "output_type": "stream",
     "text": [
      "/Users/Grace/anaconda/lib/python2.7/site-packages/ipykernel/__main__.py:19: DeprecationWarning: using a non-integer number instead of an integer will result in an error in the future\n",
      "/Users/Grace/anaconda/lib/python2.7/site-packages/ipykernel/__main__.py:20: DeprecationWarning: using a non-integer number instead of an integer will result in an error in the future\n",
      "/Users/Grace/anaconda/lib/python2.7/site-packages/ipykernel/__main__.py:21: DeprecationWarning: using a non-integer number instead of an integer will result in an error in the future\n"
     ]
    },
    {
     "data": {
      "image/png": "[encoded data removed]",
      "text/plain": [
       "<matplotlib.figure.Figure at 0x11fbef450>"
      ]
     },
     "metadata": {},
     "output_type": "display_data"
    }
   ],
   "source": [
    "#define our f(x,y,z,c)\n",
    "f_donut = lambda x, y, z, c: (z**2) + (np.sqrt((x**2) + (y**2)) - c)**2\n",
    "\n",
    "# use N draws \n",
    "N= 10000.0\n",
    "number_of_tries = 1000\n",
    "estimates = np.zeros(number_of_tries)\n",
    "c = 3\n",
    "a = 1\n",
    "x_low = -4\n",
    "x_high = 1\n",
    "y_low = -3\n",
    "y_high = 4\n",
    "z_low = -1\n",
    "z_high = 1\n",
    "\n",
    "for i in range(number_of_tries):\n",
    "    #sample X and Y\n",
    "    X= np.random.uniform(low=x_low, high=x_high, size=N) \n",
    "    Y= np.random.uniform(low=y_low, high=y_high, size=N)\n",
    "    Z= np.random.uniform(low=z_low, high=z_high, size=N)\n",
    "\n",
    "    # calculate f(x) \n",
    "    f_value = f_donut(X, Y, Z, c)\n",
    "\n",
    "    # reject all samples that do not satisfy our region condition\n",
    "    # f_value < a**2 == [T, F, F, ... , T]\n",
    "    # np.sum([T, F, F, ..., T]) = number of T\n",
    "    number_of_points_in_the_donut = np.sum(f_value<(a**2))\n",
    "    ratio_of_points_in_the_donut = number_of_points_in_the_donut / N\n",
    "\n",
    "    # get the box volume\n",
    "    box_volume = (x_high - x_low) * (y_high - y_low) * (z_high - z_low)\n",
    "\n",
    "    # original donut weight\n",
    "    original_donut_weight = np.pi*(a**2)*2*np.pi*c\n",
    "    \n",
    "    # estimated weight\n",
    "    estimated_weight = box_volume * ratio_of_points_in_the_donut\n",
    "    estimates[i] = estimated_weight * 100 /original_donut_weight\n",
    "\n",
    "\n",
    "\n",
    "plt.hist(estimates)\n",
    "plt.xlabel(\"Estimated % of donut left\")\n",
    "plt.ylabel(\"Counts\")\n",
    "print \"Monte Carlo estimate of % of donut left :\", np.mean(estimates)\n",
    "print \"Error (Standard Deviation) :\", estimates.std()"
   ]
  },
  {
   "cell_type": "markdown",
   "metadata": {},
   "source": [
    "# Problem 4: New Years Resolutions\n",
    "\n",
    "A lot of people pledge to get more active in the new year. Unfortunately these resolutions often are short lived. We model the probability distribution of personal fitness over the months of a year with a skewed distribution:\n",
    "\n",
    "$ P(t) = \\lambda \\frac{(t-0.9)}{(t-1)^2 + 1}, \\; 1 \\leq t \\leq 12 $\n",
    "\n",
    "$ P(t) = 0 \\; otherwise$\n",
    "\n",
    "Where $t=1$ corresponds to January, $t=2$ corresponds to February, etc.. $\\lambda$ is a normalization constant, and t is measured in months ($t$ only takes integer values). \n",
    "\n",
    "* Plot the given distribution and compute the normalization factor\n",
    "* Sample $10^5$ samples from the distribution given above using rejection sampling. \n",
    "* Plot the histogram of the simulated samples and compare it to the true distribution (hint: It's easiest to use the normalization factor computed above and then plot the normed version of the histogram against it.\n",
    "* Repeat the first two steps using the inverse transform instead of rejection sampling. Do not bother with getting the anti-derivative analytically. Just build a lookup table for it. \n",
    "* Compare the execution time of both methods. Which one is faster and why? When would you prefer a lookup table and when an analytical solution to the anti-derivative?"
   ]
  },
  {
   "cell_type": "markdown",
   "metadata": {},
   "source": [
    "**Please answer this problem by adding cells here.**"
   ]
  },
  {
   "cell_type": "markdown",
   "metadata": {},
   "source": [
    "### 1) Plot the given distribution and compute the normalization factor"
   ]
  },
  {
   "cell_type": "code",
   "execution_count": 257,
   "metadata": {
    "collapsed": false
   },
   "outputs": [
    {
     "name": "stdout",
     "output_type": "stream",
     "text": [
      "normalization factor (lambda) : 0.39203851592\n",
      "[ 0.03920385  0.21562118  0.16465618  0.12153194  0.09455047  0.07689986\n",
      "  0.06463338  0.05566947  0.04885403  0.04350671  0.03920385  0.03566908]\n",
      "sum over 1 <= t <= 12 : 1.0\n"
     ]
    }
   ],
   "source": [
    "# =================================\n",
    "# To compute Normalization factor lambda\n",
    "# =================================\n",
    "t_range = range(1,13)\n",
    "pmf_value_list_without_lambda = np.zeros(len(t_range))\n",
    "\n",
    "def pmf_without_lambda(t):\n",
    "    return (t-0.9) / ((t-1)**2 + 1)\n",
    "\n",
    "t_range = range(1,13)\n",
    "\n",
    "for t in t_range:\n",
    "    pmf_value_list_without_lambda[t-1] = pmf_without_lambda(t)\n",
    "\n",
    "lambda_p4 = 1./np.sum(pmf_value_list_without_lambda)\n",
    "print \"normalization factor (lambda) :\", lambda_p4\n",
    "\n",
    "# =================================\n",
    "# Calculate P(t) with lambda we got above\n",
    "# =================================\n",
    "pmf_value_list_with_lambda = lambda_p4 * pmf_value_list_without_lambda\n",
    "print pmf_value_list_with_lambda\n",
    "print \"sum over 1 <= t <= 12 :\", np.sum(pmf_value_list_with_lambda)"
   ]
  },
  {
   "cell_type": "code",
   "execution_count": 486,
   "metadata": {
    "collapsed": false
   },
   "outputs": [
    {
     "data": {
      "image/png": "[encoded data removed]",
      "text/plain": [
       "<matplotlib.figure.Figure at 0x120c2db10>"
      ]
     },
     "metadata": {},
     "output_type": "display_data"
    }
   ],
   "source": [
    "# =================================\n",
    "# Plot\n",
    "# =================================\n",
    "\n",
    "# plt.bar(t_range, pmf_value_list_with_lambda, alpha=0.5)\n",
    "plt.scatter(np.array(t_range)+0.5, pmf_value_list_with_lambda, label='True distribution', color='r')\n",
    "plt.xlim(0.7, 13)\n",
    "plt.ylim(0, 0.25)\n",
    "plt.xticks(np.arange(1.5, 13.5, 1), t_range)\n",
    "plt.title('pmf of New Years Resolutions')\n",
    "plt.xlabel(\"t = month\")\n",
    "plt.ylabel(\"P(t)\")\n",
    "plt.show()"
   ]
  },
  {
   "cell_type": "markdown",
   "metadata": {},
   "source": [
    "### 2) Sample $10^5$ samples from the distribution given above using rejection sampling. "
   ]
  },
  {
   "cell_type": "code",
   "execution_count": 321,
   "metadata": {
    "collapsed": false
   },
   "outputs": [
    {
     "name": "stdout",
     "output_type": "stream",
     "text": [
      "0.39203851592\n"
     ]
    }
   ],
   "source": [
    "np.random.randint(low=1, high=13)\n",
    "print(lambda_p4)"
   ]
  },
  {
   "cell_type": "code",
   "execution_count": 404,
   "metadata": {
    "collapsed": false
   },
   "outputs": [
    {
     "name": "stdout",
     "output_type": "stream",
     "text": [
      "CPU times: user 2 µs, sys: 0 ns, total: 2 µs\n",
      "Wall time: 5.01 µs\n",
      "Total samples drawn:  257989\n",
      "Number of accepted samples:  100000\n"
     ]
    }
   ],
   "source": [
    "# to measure time\n",
    "%time\n",
    "\n",
    "P = lambda t : lambda_p4 * (t-0.9) / ((t-1)**2 + 1)\n",
    "\n",
    "# domain limits\n",
    "xmin = 1 # the lower limit of our domain\n",
    "xmax = 13 # the upper limit of our domain (exclusive)\n",
    "\n",
    "# range limit (supremum) for y\n",
    "ymax = P(2)\n",
    "\n",
    "N = 100000 # the total of samples we wish to generate\n",
    "accepted = 0 # the number of accepted samples\n",
    "samples = np.zeros(N)\n",
    "count = 0 # the total count of proposals\n",
    "\n",
    "# generation loop\n",
    "while (accepted < N):\n",
    "    \n",
    "    # pick a uniform number on [xmin, xmax) (e.g. 0...10)\n",
    "    x = np.random.randint(low=xmin, high=xmax)\n",
    "    \n",
    "    # pick a uniform number on [0, ymax)\n",
    "    y = np.random.uniform(0, ymax)\n",
    "    \n",
    "    # Do the accept/reject comparison\n",
    "    if y < P(x):\n",
    "        samples[accepted] = x\n",
    "        accepted += 1\n",
    "    \n",
    "    count +=1\n",
    "    \n",
    "print \"Total samples drawn: \",count\n",
    "print \"Number of accepted samples: \", accepted"
   ]
  },
  {
   "cell_type": "markdown",
   "metadata": {},
   "source": [
    "### 3) Plot the histogram of the simulated samples and compare it to the true distribution (hint: It's easiest to use the normalization factor computed above and then plot the normed version of the histogram against it.)"
   ]
  },
  {
   "cell_type": "code",
   "execution_count": 480,
   "metadata": {
    "collapsed": false
   },
   "outputs": [
    {
     "data": {
      "image/png": "[encoded data removed]",
      "text/plain": [
       "<matplotlib.figure.Figure at 0x122abc490>"
      ]
     },
     "metadata": {},
     "output_type": "display_data"
    }
   ],
   "source": [
    "# plot the histogram\n",
    "\n",
    "plt.scatter(np.array(t_range)+0.5, pmf_value_list_with_lambda, label='True distribution', color='r')\n",
    "plt.hist(samples, bins=range(1,14,1), label=u'Samples', rwidth=0.8, alpha=0.4, normed=True);\n",
    "plt.xlim(0.7, 13)\n",
    "plt.ylim(0, 0.25)\n",
    "plt.xticks(np.arange(1.5, 13.5, 1), t_range)\n",
    "plt.legend()\n",
    "plt.xlabel(\"t = month\")\n",
    "plt.ylabel(\"P(t)\")\n",
    "plt.show()"
   ]
  },
  {
   "cell_type": "markdown",
   "metadata": {},
   "source": [
    "### 4) Repeat the first two steps using the inverse transform instead of rejection sampling. Do not bother with getting the anti-derivative analytically. Just build a lookup table for it. "
   ]
  },
  {
   "cell_type": "code",
   "execution_count": 475,
   "metadata": {
    "collapsed": false
   },
   "outputs": [
    {
     "name": "stdout",
     "output_type": "stream",
     "text": [
      "[ 0.03920385  0.25482504  0.41948121  0.54101315  0.63556362  0.71246348\n",
      "  0.77709686  0.83276633  0.88162036  0.92512707  0.96433092  1.        ]\n"
     ]
    }
   ],
   "source": [
    "# =================================\n",
    "# Building a Lookup Table\n",
    "# =================================\n",
    "\n",
    "inverse_transform_lookup_table = np.zeros(len(t_range))\n",
    "inverse_transform_lookup_table[0] = pmf_value_list_with_lambda[0]\n",
    "\n",
    "for t in t_range[1:]:\n",
    "    inverse_transform_lookup_table[t-1] = inverse_transform_lookup_table[t-2]+pmf_value_list_with_lambda[t-1]\n",
    "\n",
    "print inverse_transform_lookup_table"
   ]
  },
  {
   "cell_type": "code",
   "execution_count": 403,
   "metadata": {
    "collapsed": false
   },
   "outputs": [
    {
     "name": "stdout",
     "output_type": "stream",
     "text": [
      "CPU times: user 2 µs, sys: 1e+03 ns, total: 3 µs\n",
      "Wall time: 5.01 µs\n"
     ]
    }
   ],
   "source": [
    "# =================================\n",
    "# Inverse Transform Sampling\n",
    "# =================================\n",
    "\n",
    "# to measure time\n",
    "%time\n",
    "\n",
    "# the total of samples we wish to generate\n",
    "N = 100000\n",
    "X_inverse_transform = np.zeros(N)\n",
    "\n",
    "for i in range(N):\n",
    "    # generate uniform samples in our range then invert the CDF\n",
    "    # to get samples of our target distribution\n",
    "    y = np.random.uniform(0, 1)\n",
    "    \n",
    "    for t in t_range:\n",
    "        if y < inverse_transform_lookup_table[t-1]:\n",
    "            X_inverse_transform[i] = t\n",
    "            break\n",
    "    X_inverse_transform[i] = t"
   ]
  },
  {
   "cell_type": "code",
   "execution_count": 478,
   "metadata": {
    "collapsed": false
   },
   "outputs": [
    {
     "data": {
      "image/png": "[encoded data removed]",
      "text/plain": [
       "<matplotlib.figure.Figure at 0x1201ac3d0>"
      ]
     },
     "metadata": {},
     "output_type": "display_data"
    },
    {
     "data": {
      "image/png": "[encoded data removed]",
      "text/plain": [
       "<matplotlib.figure.Figure at 0x122b54190>"
      ]
     },
     "metadata": {},
     "output_type": "display_data"
    }
   ],
   "source": [
    "# plot the histogram\n",
    "\n",
    "# plt.bar(t_range, pmf_value_list_with_lambda, label='True distribution', alpha=0.2, color='r')\n",
    "plt.hist(X_inverse_transform, bins=range(1,14,1), label=u'Samples from Inverse Sampling', rwidth=0.8, alpha=0.4)\n",
    "# plt.hist(X_inverse_transform, bins=range(1,14,1), label=u'Samples from Inverse Sampling', rwidth=0.8, alpha=0.4, normed=True)\n",
    "plt.xlim(0.7, 13)\n",
    "plt.xticks(np.arange(1.5, 13.5, 1), t_range)\n",
    "plt.legend()\n",
    "plt.xlabel(\"t = month\")\n",
    "plt.ylabel(\"Counts\")\n",
    "plt.show()\n",
    "\n",
    "plt.scatter(np.array(t_range)+0.5, pmf_value_list_with_lambda, label='True distribution', color='r')\n",
    "plt.hist(X_inverse_transform, bins=range(1,14,1), label=u'Samples from Inverse Sampling', rwidth=0.8, alpha=0.4, normed=True)\n",
    "plt.xlim(0.7, 13)\n",
    "plt.ylim(0, 0.25)\n",
    "plt.xticks(np.arange(1.5, 13.5, 1), t_range)\n",
    "plt.legend()\n",
    "plt.xlabel(\"t = month\")\n",
    "plt.ylabel(\"P(t)\")\n",
    "plt.show()"
   ]
  },
  {
   "cell_type": "markdown",
   "metadata": {},
   "source": [
    "### 5) Compare the execution time of both methods. Which one is faster and why? When would you prefer a lookup table and when an analytical solution to the anti-derivative?"
   ]
  },
  {
   "cell_type": "markdown",
   "metadata": {},
   "source": [
    "Both methods took almost the same time for $N=10^5$ and it was hard to tell which method is obviously faster. So I tested with bigger size of $N=10^7$ and the time was took as below.\n",
    "* Rejection Sampling took Wall time: 32.2 µs\n",
    "* Inverse Transform Sampling took Wall time: 28.8 µs\n",
    "\n",
    "I think the reason why Rejection Sampling took a little bit more time is that it needs to loop through more than actual value of N times because quite a lot of samples will be rejected. As we can see above result, the \"Total samples drawn:  257989\" to fill up \"Number of accepted samples:  100000\".\n",
    "\n",
    "However, since for this problem, we only had 12 different t values, so we only needed to lookup 12 values when Inverse Trasnform Sampling. If the distribution has more larger domain, therefore if we needed to lookup much larger lookup table, then Inverse Transform Sampling will take much longer time as searching in lookup table takes longer time than computing P(x) value in Rejection Sampling."
   ]
  },
  {
   "cell_type": "markdown",
   "metadata": {},
   "source": [
    "# Problem 5: Give it all!\n",
    "\n",
    "Estimate the following integral:\n",
    "\n",
    "$ \\int_{-1}^{1} \\int_{-1}^{1}  f(x,y) \\,dx \\,dy$, with \n",
    "\n",
    "$ g(x,y) = -(x+0.4)^2 - (y+0.4)^2 + 0.1 - (x-0.4)^2 - (y-0.4)^2 + 0.05$, and\n",
    "\n",
    "$ f(x,y) = \\max(g(x,y), 0)$\n",
    "\n",
    "\n",
    "First use basic Monte Carlo estimation. Then apply different variance reduction techniques we discussed in the lecture: \n",
    "* stratified sampling, \n",
    "* control variates, \n",
    "* importance sampling\n",
    "\n",
    "For each technique give a short explanation of how you are applying it to the problem. Implement the different techniques and then make a table and compare the results with respect to run-time and error in the estimate. \n",
    "\n",
    "You can choose to also either apply and explain antithetic variates, or explain why you don't think they are useful in this case, and how they could benefit of being combined with one of the techniques listed above. "
   ]
  },
  {
   "cell_type": "markdown",
   "metadata": {},
   "source": [
    "**Please answer this problem by adding cells here.**"
   ]
  },
  {
   "cell_type": "markdown",
   "metadata": {},
   "source": [
    "## 1) Basic Monte Carlo estimation"
   ]
  },
  {
   "cell_type": "code",
   "execution_count": 975,
   "metadata": {
    "collapsed": true
   },
   "outputs": [],
   "source": [
    "# ============================================\n",
    "# Function Definitions\n",
    "# ============================================\n",
    "g1 = lambda x, y: -(x+0.4)**2 - (y+0.4)**2 + 0.1\n",
    "g2 = lambda x, y: -(x-0.4)**2 - (y-0.4)**2 + 0.05\n",
    "f = lambda x, y: np.maximum(g1(x,y), 0) + np.maximum(g2(x,y), 0)"
   ]
  },
  {
   "cell_type": "code",
   "execution_count": 979,
   "metadata": {
    "collapsed": false
   },
   "outputs": [
    {
     "name": "stdout",
     "output_type": "stream",
     "text": [
      "CPU times: user 2 µs, sys: 1e+03 ns, total: 3 µs\n",
      "Wall time: 5.01 µs\n",
      "Mean basic MC estimate:  0.0196651020704\n",
      "Standard deviation of our estimates:  0.00210213016985\n"
     ]
    }
   ],
   "source": [
    "%time\n",
    "# ============================================\n",
    "# VANILLA CRUDE MONTE CARLO \n",
    "# ============================================\n",
    "# We do 1000 estimates to get our estimation error\n",
    "xmin = -1\n",
    "xmax = 1\n",
    "ymin = -1\n",
    "ymax = 1\n",
    "\n",
    "# Number of draws \n",
    "N = 1000\n",
    "Ivmc = np.zeros(1000)\n",
    "\n",
    "for k in np.arange(0,1000):\n",
    "    x = np.random.uniform(low=xmin, high=xmax, size=N)\n",
    "    y = np.random.uniform(low=ymin, high=ymax, size=N)\n",
    "    Ivmc[k] = (xmax-xmin)*(ymax-ymin)*np.mean(f(x, y))\n",
    "    \n",
    "print \"Mean basic MC estimate: \", np.mean(Ivmc)\n",
    "print \"Standard deviation of our estimates: \", np.std(Ivmc)"
   ]
  },
  {
   "cell_type": "markdown",
   "metadata": {},
   "source": [
    "### Let's see how our f(x, y) looks like"
   ]
  },
  {
   "cell_type": "code",
   "execution_count": 977,
   "metadata": {
    "collapsed": false
   },
   "outputs": [
    {
     "data": {
      "image/png": "[encoded data removed]",
      "text/plain": [
       "<matplotlib.figure.Figure at 0x126994e50>"
      ]
     },
     "metadata": {},
     "output_type": "display_data"
    }
   ],
   "source": [
    "from mpl_toolkits.mplot3d import Axes3D\n",
    "\n",
    "fig = plt.figure()\n",
    "ax = fig.add_subplot(111, projection='3d')\n",
    "\n",
    "x = np.arange(-1, 1, 0.01)\n",
    "y = np.arange(-1, 1, 0.01)\n",
    "X, Y = np.meshgrid(x, y)\n",
    "Z = f(X, Y)\n",
    "\n",
    "ax.plot_surface(X, Y, Z, color='coral')\n",
    "plt.show()"
   ]
  },
  {
   "cell_type": "markdown",
   "metadata": {},
   "source": [
    "## 2) Stratified Sampling"
   ]
  },
  {
   "cell_type": "markdown",
   "metadata": {},
   "source": [
    "Since the function we're estimating is 2 dimension, so we need to go through nested loop, one for x-axis stratum, one for y-axis stratum. Therefore, it will go through $M^2$ number of stratum."
   ]
  },
  {
   "cell_type": "code",
   "execution_count": 1001,
   "metadata": {
    "collapsed": false
   },
   "outputs": [
    {
     "name": "stdout",
     "output_type": "stream",
     "text": [
      "CPU times: user 3 µs, sys: 1e+03 ns, total: 4 µs\n",
      "Wall time: 6.91 µs\n",
      "[Stratified Sampling] MC estimate:  0.0196442203856\n",
      "std dev with stratification:  0.000262986825738\n"
     ]
    },
    {
     "name": "stderr",
     "output_type": "stream",
     "text": [
      "/Users/Grace/anaconda/lib/python2.7/site-packages/ipykernel/__main__.py:37: DeprecationWarning: using a non-integer number instead of an integer will result in an error in the future\n",
      "/Users/Grace/anaconda/lib/python2.7/site-packages/ipykernel/__main__.py:38: DeprecationWarning: using a non-integer number instead of an integer will result in an error in the future\n"
     ]
    }
   ],
   "source": [
    "%time\n",
    "# number of samples\n",
    "N = 1000\n",
    "# number of strata\n",
    "M = 10   \n",
    "\n",
    "# bounds of our integral\n",
    "xmin = -1\n",
    "xmax = 1\n",
    "ymin = -1\n",
    "ymax = 1\n",
    "\n",
    "# I_stratified\n",
    "Is = np.zeros(N)\n",
    "\n",
    "for k in np.arange(0,N):\n",
    "    Umax = xmax\n",
    "    Umin = xmin\n",
    "    # Now stratified with M regions\n",
    "    # since X and Y range are the same, I'll just use the same strata range for X, Y respectively\n",
    "    step = 1.0*(Umax-Umin)/M\n",
    "    \n",
    "    # Ii sums up our results\n",
    "    Ii = 0\n",
    "    \n",
    "    \n",
    "    x_Umin = xmin \n",
    "    x_Umax = x_Umin + step\n",
    "\n",
    "    # loop over all strata\n",
    "    for i in np.arange(0,M): # loop over x-axis strata\n",
    "        y_Umin = ymin\n",
    "        y_Umax = y_Umin + step\n",
    "        \n",
    "        for j in np.arange(0,M): # loop over y-axis strata\n",
    "            # sample for this stratum\n",
    "            x = np.random.uniform(low=x_Umin, high=x_Umax, size=1.0*N/M)\n",
    "            y = np.random.uniform(low=y_Umin, high=y_Umax, size=1.0*N/M)\n",
    "            # update Ii with the additional stratum data\n",
    "\n",
    "            Ii = Ii+ (x_Umax-x_Umin)*(y_Umax-y_Umin)*np.mean(f(x, y))\n",
    "            # update bounds for next stratum\n",
    "            y_Umin = y_Umin + step\n",
    "            y_Umax = y_Umax + step\n",
    "\n",
    "        x_Umin = x_Umin + step\n",
    "        x_Umax = x_Umax + step\n",
    "        \n",
    "    #save stratified result from this iteration\n",
    "    Is[k] = Ii\n",
    "    \n",
    "print \"[Stratified Sampling] MC estimate: \", np.mean(Is)\n",
    "print \"std dev with stratification: \", np.std(Is)"
   ]
  },
  {
   "cell_type": "code",
   "execution_count": 1002,
   "metadata": {
    "collapsed": false
   },
   "outputs": [
    {
     "data": {
      "image/png": "[encoded data removed]",
      "text/plain": [
       "<matplotlib.figure.Figure at 0x122e36490>"
      ]
     },
     "metadata": {},
     "output_type": "display_data"
    }
   ],
   "source": [
    "# visualize the improvement\n",
    "plt.hist(Ivmc,30, alpha=0.2, label=u'Basic MC');\n",
    "plt.hist(Is, 30, label = u'Stratified');\n",
    "plt.xlabel(\"Estimated Value of the Integral\")\n",
    "plt.ylabel(\"Counts\")\n",
    "plt.legend()\n",
    "plt.show()"
   ]
  },
  {
   "cell_type": "markdown",
   "metadata": {},
   "source": [
    "## 3) Control Variates"
   ]
  },
  {
   "cell_type": "markdown",
   "metadata": {},
   "source": [
    "To minimize the variance, we need to select g(x, y) that makes correlation to f(x, y) could be very close to 1. Therefore, I defined the control_variates_function to be summation of 2 different multivariate-gaussian distribution, each of them has mean and covariance similar to the peak of our f(x, y). And then, to get the TAU value (which is $E[control variates function(x,y)]$), I used basic MC estimation. After I got the TAU value, then I followed the way to get optimal coefficient $b$ and then did the estimation."
   ]
  },
  {
   "cell_type": "code",
   "execution_count": 982,
   "metadata": {
    "collapsed": true
   },
   "outputs": [],
   "source": [
    "mean_for_peak1_control_variates = [-0.4, -0.4]\n",
    "cov_for_peak1_control_variates = [[0.2**2, 0], [0, 0.2**2]]\n",
    "\n",
    "mean_for_peak2_control_variates = [0.4, 0.4]\n",
    "cov_for_peak2_control_variates = [[0.15**2, 0], [0, 0.15**2]]\n",
    "\n",
    "control_variates_function = lambda x : 0.7*multivariate_normal.pdf(x,\n",
    "                                                                  mean_for_peak1_control_variates,\n",
    "                                                                  cov_for_peak1_importance_sampling) \\\n",
    "                                     + 0.3*multivariate_normal.pdf(x,\n",
    "                                                                   mean_for_peak2_importance_sampling,\n",
    "                                                                   cov_for_peak2_importance_sampling)"
   ]
  },
  {
   "cell_type": "code",
   "execution_count": 983,
   "metadata": {
    "collapsed": false
   },
   "outputs": [
    {
     "name": "stdout",
     "output_type": "stream",
     "text": [
      "Mean of TAU value by MC estimate:  0.249431780598\n",
      "Standard deviation of our estimates:  0.0159787133423\n"
     ]
    }
   ],
   "source": [
    "# ============================================\n",
    "# Get TAU value by MC estimation\n",
    "# ============================================\n",
    "tau_estimations = np.zeros(1000)\n",
    "xmin = -1\n",
    "xmax = 1\n",
    "ymin = -1\n",
    "ymax = 1\n",
    "N = 1000\n",
    "\n",
    "for k in np.arange(0,1000):\n",
    "    x = np.random.uniform(low=xmin, high=xmax, size=N)\n",
    "    y = np.random.uniform(low=ymin, high=ymax, size=N)\n",
    "    xy = np.array(zip(x, y))\n",
    "    tau_estimations[k] = np.mean(control_variates_function(xy))\n",
    "    \n",
    "print \"Mean of TAU value by MC estimate: \", np.mean(tau_estimations)\n",
    "print \"Standard deviation of our estimates: \", np.std(tau_estimations)\n",
    "tau = np.mean(tau_estimations)"
   ]
  },
  {
   "cell_type": "code",
   "execution_count": 984,
   "metadata": {
    "collapsed": false
   },
   "outputs": [
    {
     "name": "stdout",
     "output_type": "stream",
     "text": [
      "0.249431780598\n"
     ]
    }
   ],
   "source": [
    "print tau"
   ]
  },
  {
   "cell_type": "code",
   "execution_count": 999,
   "metadata": {
    "collapsed": false
   },
   "outputs": [
    {
     "name": "stdout",
     "output_type": "stream",
     "text": [
      "CPU times: user 2 µs, sys: 1 µs, total: 3 µs\n",
      "Wall time: 5.96 µs\n",
      "[Control Variates] MC estimate:  0.0195768085622\n",
      "std dev with control variate:  0.000756370557972\n"
     ]
    }
   ],
   "source": [
    "%time\n",
    "# Estimations using Control Variates\n",
    "Imc_vr = np.zeros(1000)\n",
    "\n",
    "N=1000\n",
    "for k in np.arange(0,1000):\n",
    "    \n",
    "    x = np.random.uniform(low=xmin, high=xmax, size=N)\n",
    "    y = np.random.uniform(low=ymin, high=ymax, size=N)\n",
    "    xy = np.array(zip(x, y))\n",
    "    \n",
    "    # ----------------------\n",
    "    # CONTROL VARIATE\n",
    "    # ----------------------\n",
    "  \n",
    "    # compute optimal value for b\n",
    "    q = np.cov(control_variates_function(xy), f(x, y))\n",
    "    b = -q[0,1]/np.var(control_variates_function(xy))\n",
    "\n",
    "    # compute our estimate ( np.mean(f(X)) + b *( np.mean(g(X)) -tau ) )\n",
    "    Imc_vr[k] = (xmax-xmin)*(ymax-ymin)*( np.mean(f(x, y)) + b*( np.mean(control_variates_function(xy))-tau ) )\n",
    "\n",
    "print \"[Control Variates] MC estimate: \", np.mean(Imc_vr)\n",
    "print \"std dev with control variate: \", np.std(Imc_vr)"
   ]
  },
  {
   "cell_type": "code",
   "execution_count": 1000,
   "metadata": {
    "collapsed": false
   },
   "outputs": [
    {
     "data": {
      "image/png": "[encoded data removed]",
      "text/plain": [
       "<matplotlib.figure.Figure at 0x120eb8090>"
      ]
     },
     "metadata": {},
     "output_type": "display_data"
    }
   ],
   "source": [
    "# -----------------------------\n",
    "# VISUALIZE Control Variates Method\n",
    "# -----------------------------\n",
    "plt.hist(Ivmc,30, alpha=0.2, label=u'Basic MC');\n",
    "plt.hist(Imc_vr,30, label = u'Control Variate');\n",
    "plt.xlabel(\"Integral value\")\n",
    "plt.ylabel(\"Counts\")\n",
    "plt.legend()\n",
    "plt.show()"
   ]
  },
  {
   "cell_type": "markdown",
   "metadata": {},
   "source": [
    "## 4) Importance Sampling"
   ]
  },
  {
   "cell_type": "markdown",
   "metadata": {},
   "source": [
    "I defined the our g(x, y) function to be summation of 2 different multivariate-gaussian distribution, each of them has mean and covariance similar to the each peak of our f(x, y), like as I did in Control Variates method above. And then, since normal distribution has volume of 2, I multiplied it as our support."
   ]
  },
  {
   "cell_type": "code",
   "execution_count": 989,
   "metadata": {
    "collapsed": true
   },
   "outputs": [],
   "source": [
    "from scipy.stats import mvn\n",
    "from scipy.stats import multivariate_normal\n",
    "\n",
    "N_importance_sampling = 1000\n",
    "\n",
    "xmin = -1\n",
    "xmax = 1\n",
    "ymin = -1\n",
    "ymax = 1\n",
    "\n",
    "# ============================================\n",
    "# g(X, Y) Function Definition\n",
    "# ============================================\n",
    "mean_for_peak1_importance_sampling = [-0.4, -0.4]\n",
    "cov_for_peak1_importance_sampling = [[0.2**2, 0], [0, 0.2**2]]\n",
    "\n",
    "mean_for_peak2_importance_sampling = [0.4, 0.4]\n",
    "cov_for_peak2_importance_sampling = [[0.15**2, 0], [0, 0.15**2]]\n",
    "\n",
    "importance_sampling_function = lambda x : multivariate_normal.pdf(x,\n",
    "                                                                  mean_for_peak1_importance_sampling,\n",
    "                                                                  cov_for_peak1_importance_sampling) \\\n",
    "                                        + multivariate_normal.pdf(x,\n",
    "                                                                  mean_for_peak2_importance_sampling,\n",
    "                                                                  cov_for_peak2_importance_sampling)"
   ]
  },
  {
   "cell_type": "code",
   "execution_count": 997,
   "metadata": {
    "collapsed": false
   },
   "outputs": [
    {
     "name": "stdout",
     "output_type": "stream",
     "text": [
      "CPU times: user 2 µs, sys: 1e+03 ns, total: 3 µs\n",
      "Wall time: 5.01 µs\n",
      "[Importance Sampling] MC estimate:  0.0196627162491\n",
      "Standard deviation of our estimates:  0.000538766733384\n"
     ]
    }
   ],
   "source": [
    "%time\n",
    "# ============================================\n",
    "# IMPORTANCE SAMPLING \n",
    "# ============================================\n",
    "Iis = np.zeros(1000)\n",
    "\n",
    "for k in np.arange(0,1000):\n",
    "    \n",
    "    # draw from a multi_variates_normal_distribution \n",
    "    X_for_peak1_importance_sampling = np.random.multivariate_normal(mean_for_peak1_importance_sampling, \n",
    "                                                                    cov_for_peak1_importance_sampling,\n",
    "                                                                    int(0.5*N_importance_sampling))\n",
    "    X_for_peak2_importance_sampling = np.random.multivariate_normal(mean_for_peak2_importance_sampling,\n",
    "                                                                    cov_for_peak2_importance_sampling,\n",
    "                                                                    int(0.5*N_importance_sampling))\n",
    "\n",
    "\n",
    "    # make sure samples are in our range\n",
    "    X_for_peak1_importance_sampling = X_for_peak1_importance_sampling[(xmin < X_for_peak1_importance_sampling[:, 0])\n",
    "                                                                     &(X_for_peak1_importance_sampling[:, 0] < xmax)\n",
    "                                                                     &(ymin < X_for_peak1_importance_sampling[:, 1])\n",
    "                                                                     &(X_for_peak1_importance_sampling[:, 1] < ymax)]\n",
    "    X_for_peak2_importance_sampling = X_for_peak2_importance_sampling[(xmin < X_for_peak2_importance_sampling[:, 0])\n",
    "                                                                     &(X_for_peak2_importance_sampling[:, 0] < xmax)\n",
    "                                                                     &(ymin < X_for_peak2_importance_sampling[:, 1])\n",
    "                                                                     &(X_for_peak2_importance_sampling[:, 1] < ymax)]\n",
    "\n",
    "    #combine XY samples\n",
    "    X_for_both = [i for i in X_for_peak1_importance_sampling[:,0]]+[i for i in X_for_peak2_importance_sampling[:,0]]\n",
    "    Y_for_both = [i for i in X_for_peak1_importance_sampling[:,1]]+[i for i in X_for_peak2_importance_sampling[:,1]]\n",
    "    X_for_both = np.array(X_for_both)\n",
    "    Y_for_both = np.array(Y_for_both)\n",
    "    XY_for_both = np.array(zip(X_for_both, Y_for_both))\n",
    "    \n",
    "\n",
    "    # computing our estimates\n",
    "    Iis[k] = 2*np.mean(f(X_for_both, Y_for_both)/importance_sampling_function(XY_for_both))\n",
    "\n",
    "    \n",
    "print \"[Importance Sampling] MC estimate: \", np.mean(Iis)\n",
    "print \"Standard deviation of our estimates: \", np.std(Iis)"
   ]
  },
  {
   "cell_type": "code",
   "execution_count": 998,
   "metadata": {
    "collapsed": false
   },
   "outputs": [
    {
     "data": {
      "image/png": "[encoded data removed]",
      "text/plain": [
       "<matplotlib.figure.Figure at 0x1211b9d50>"
      ]
     },
     "metadata": {},
     "output_type": "display_data"
    }
   ],
   "source": [
    "# ============================================\n",
    "# Plot\n",
    "# ============================================\n",
    "plt.hist(Ivmc, 30, color='b', histtype='step', label=u'Vanilla MC');\n",
    "plt.hist(Iis,30, color='r', histtype='step', label=u'Importance Sampling');\n",
    "plt.xlabel(\"Estimate for integral\")\n",
    "plt.ylabel(\"Counts\")\n",
    "plt.legend()\n",
    "plt.show()"
   ]
  },
  {
   "cell_type": "markdown",
   "metadata": {},
   "source": [
    "## 5) Antithetic Variates"
   ]
  },
  {
   "cell_type": "markdown",
   "metadata": {},
   "source": [
    "In our function f(x, y) case, we cannot directly apply the Antithetic Variates method to reduce our variance, since our f(x, y) is not monotonic function. However, if we combine with other variance-reduction-method, which is \"Stratified Samping\" method, then Antithetic Variates will be able to be applied to our f(x,y). To be specific, since in Stratified Sampling method, we split the function into small strata, so we can assume that each small strata is monotonic function, therefore we can sample X and 1-X way and apply the Antithetic Variates within each strata."
   ]
  },
  {
   "cell_type": "code",
   "execution_count": 1003,
   "metadata": {
    "collapsed": false
   },
   "outputs": [
    {
     "name": "stdout",
     "output_type": "stream",
     "text": [
      "[Stratified Sampling] estimate:  0.0196286098043\n",
      "std dev with stratification:  0.000258363052511\n"
     ]
    },
    {
     "name": "stderr",
     "output_type": "stream",
     "text": [
      "/Users/Grace/anaconda/lib/python2.7/site-packages/ipykernel/__main__.py:37: DeprecationWarning: using a non-integer number instead of an integer will result in an error in the future\n",
      "/Users/Grace/anaconda/lib/python2.7/site-packages/ipykernel/__main__.py:39: DeprecationWarning: using a non-integer number instead of an integer will result in an error in the future\n"
     ]
    }
   ],
   "source": [
    "N =1000\n",
    "xmin = -1 \n",
    "xmax = 1\n",
    "ymin = -1\n",
    "ymax = 1\n",
    "\n",
    "\n",
    "# I_anti_thetic\n",
    "Iant=np.zeros(1000)\n",
    "\n",
    "for k in np.arange(0,N):\n",
    "    \n",
    "    Umax = xmax\n",
    "    Umin = xmin\n",
    "    # Now stratified with M regions\n",
    "    # since X and Y range are the same, I'll just use the same strata range for X, Y respectively\n",
    "    step = 1.0*(Umax-Umin)/M\n",
    "    \n",
    "    # Ii sums up our results\n",
    "    Ii = 0\n",
    "    \n",
    "    \n",
    "    x_Umin = xmin \n",
    "    x_Umax = x_Umin + step\n",
    "\n",
    "    # loop over all strata\n",
    "    for i in np.arange(0,M): # loop over x-axis strata\n",
    "        y_Umin = ymin\n",
    "        y_Umax = y_Umin + step\n",
    "        \n",
    "        for j in np.arange(0,M): # loop over y-axis strata\n",
    "            \n",
    "            # sample for this stratum \n",
    "            # ==============================\n",
    "            # ANTITHETIC VARIATES Method\n",
    "            # ==============================\n",
    "            x1 = np.random.uniform(low=x_Umin, high=x_Umax, size=1.0*N/M)\n",
    "            x2 = x_Umax - x1\n",
    "            y1 = np.random.uniform(low=y_Umin, high=y_Umax, size=1.0*N/M)\n",
    "            y2 = y_Umax - y1\n",
    "\n",
    "            # update Ii with the additional stratum data\n",
    "            Ii = Ii+ (x_Umax-x_Umin)*(y_Umax-y_Umin)*(np.mean(f(x1, y1))+np.mean(f(x2, y2)))\n",
    "            \n",
    "            # update bounds for next stratum\n",
    "            y_Umin = y_Umin + step\n",
    "            y_Umax = y_Umax + step\n",
    "\n",
    "        x_Umin = x_Umin + step\n",
    "        x_Umax = x_Umax + step\n",
    "        \n",
    "    #save stratified result from this iteration\n",
    "    Iant[k] = Ii\n",
    "    \n",
    "print \"[Stratified Sampling] estimate: \", np.mean(Iant)\n",
    "print \"std dev with stratification: \", np.std(Iant)"
   ]
  },
  {
   "cell_type": "code",
   "execution_count": 1004,
   "metadata": {
    "collapsed": false
   },
   "outputs": [
    {
     "data": {
      "image/png": "[encoded data removed]",
      "text/plain": [
       "<matplotlib.figure.Figure at 0x125063f10>"
      ]
     },
     "metadata": {},
     "output_type": "display_data"
    }
   ],
   "source": [
    "# -----------------------------\n",
    "# VISUALIZE THE IMPROVEMENT\n",
    "# -----------------------------\n",
    "plt.hist(Ivmc,30, alpha=0.2, label=u'Basic MC');\n",
    "plt.hist(Iant,30, label = u'Antithetic Variates');\n",
    "plt.xlabel(\"Estimated Integral Value\")\n",
    "plt.ylabel(\"Counts\")\n",
    "plt.legend()\n",
    "plt.show()"
   ]
  },
  {
   "cell_type": "markdown",
   "metadata": {},
   "source": [
    "## 6) Comparison of Variance-Reduction Techniques"
   ]
  },
  {
   "cell_type": "markdown",
   "metadata": {},
   "source": [
    "| Method | Run-time | Error |\n",
    "|:-|------------:|------------:|\n",
    "| Basic MC      |        This |     This     \n",
    "| Stratified Sampling     |      column |    column    \n",
    "| Control Variates       |        will |     will     \n",
    "| Importance Sampling         |          be |      be      \n",
    "| Antithetic Variates (+ stratified sampling)       |       right |    center    "
   ]
  },
  {
   "cell_type": "code",
   "execution_count": null,
   "metadata": {
    "collapsed": true
   },
   "outputs": [],
   "source": []
  }
 ],
 "metadata": {
  "kernelspec": {
   "display_name": "Python 2",
   "language": "python",
   "name": "python2"
  },
  "language_info": {
   "codemirror_mode": {
    "name": "ipython",
    "version": 2
   },
   "file_extension": ".py",
   "mimetype": "text/x-python",
   "name": "python",
   "nbconvert_exporter": "python",
   "pygments_lexer": "ipython2",
   "version": "2.7.11"
  }
 },
 "nbformat": 4,
 "nbformat_minor": 0
}
