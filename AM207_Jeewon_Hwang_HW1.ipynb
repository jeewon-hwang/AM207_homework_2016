{
 "cells": [
  {
   "cell_type": "markdown",
   "metadata": {},
   "source": [
    "# **AM 207**: Homework 1"
   ]
  },
  {
   "cell_type": "markdown",
   "metadata": {},
   "source": [
    "Verena Kaynig-Fittkau and Pavlos Protopapas  <br>\n",
    "**Due: 11.59 P.M. Thursday February 18th, 2015**"
   ]
  },
  {
   "cell_type": "markdown",
   "metadata": {},
   "source": [
    "### Instructions:\n",
    "\n",
    "+ Upload your answers in an ipython notebook to Canvas.\n",
    "\n",
    "+ We will provide you imports for your ipython notebook. Please do not import additional libraries.\n",
    "\n",
    "+ Your individual submissions should use the following filenames: AM207_YOURNAME_HW1.ipynb\n",
    "\n",
    "+ Your code should be in code cells as part of your ipython notebook. Do not use a different language (or format). \n",
    "\n",
    "+ **Do not just send your code. The homework solutions should be in a report style. Be sure to add comments to your code as well as markdown cells where you describe your approach and discuss your results. **\n",
    "\n",
    "+ Please submit your notebook in an **executed** status, so that we can see all the results you computed. However, we will still run your code and all cells should reproduce the output when executed. \n",
    "\n",
    "+ If you have multiple files (e.g. you've added code files or images) create a tarball for all files in a single file and name it: AM207_YOURNAME_HW1.tar.gz or AM207_YOURNAME_HW1.zip\n",
    "\n",
    "\n",
    "### Have Fun!\n",
    "_ _ _ _ _"
   ]
  },
  {
   "cell_type": "code",
   "execution_count": 2,
   "metadata": {
    "collapsed": false
   },
   "outputs": [],
   "source": [
    "import numpy as np\n",
    "import matplotlib\n",
    "import matplotlib.pyplot as plt\n",
    "from mpl_toolkits.mplot3d import Axes3D\n",
    "%matplotlib inline\n",
    "\n",
    "import seaborn as sns\n",
    "sns.set_style(\"white\")\n",
    "\n",
    "import time\n",
    "\n",
    "import scipy.stats "
   ]
  },
  {
   "cell_type": "markdown",
   "metadata": {},
   "source": [
    "# Problem 1: By a Needles Length\n",
    "\n",
    "![Alt Buffon Needle](figures/Buffon_needle.gif)\n",
    "We discussed how to use Buffon's needle to estimate $\\pi$ during lecture, using the probability of the needle crossing a line of a floor tile. Using Monte Carlo simulation, estimate the probability of the needle crossing a floor line as a function of the needle's length. Assume that the distance between floor lines is 1 unit, and your needle manufacturer provides you with needles of different length in 0.1 increments with a maximum length of 1 unit. Plot a histogram of your results and compare your results to the analytical solution from the lecture:\n",
    "$$P = \\frac{2 \\cdot l}{t \\cdot \\pi}$$\n",
    "\n",
    "where $l$ is the length of the needle and $t$ is the distance beweent the floor tiles\n",
    "\n",
    "In a next step extend your simulation to a maximum needle length of 2 units, still using 0.1 increments. Compare your results to the same formula for the intersection. Why do your results now diverge from the analytical solution given above? What would you need to do to correct the analytical formula? It is ok to just describe the integral you need to solve analytically, and why it looks this way. No need to actually do the integration by hand. "
   ]
  },
  {
   "cell_type": "markdown",
   "metadata": {},
   "source": [
    "**Please answer this problem by adding cells here.**"
   ]
  },
  {
   "cell_type": "code",
   "execution_count": 130,
   "metadata": {
    "collapsed": true
   },
   "outputs": [],
   "source": [
    "# =================================\n",
    "# number of samples\n",
    "# =================================\n",
    "N_total = 10000.0 \n",
    "\n",
    "# =================================\n",
    "# number of trials\n",
    "# =================================\n",
    "N_trials = 1000"
   ]
  },
  {
   "cell_type": "code",
   "execution_count": 160,
   "metadata": {
    "collapsed": false
   },
   "outputs": [
    {
     "name": "stderr",
     "output_type": "stream",
     "text": [
      "/Users/Grace/anaconda/lib/python2.7/site-packages/ipykernel/__main__.py:22: DeprecationWarning: using a non-integer number instead of an integer will result in an error in the future\n",
      "/Users/Grace/anaconda/lib/python2.7/site-packages/ipykernel/__main__.py:23: DeprecationWarning: using a non-integer number instead of an integer will result in an error in the future\n"
     ]
    }
   ],
   "source": [
    "# =================================\n",
    "# length of the needle [0.1, 0.2, ..., 2.0]\n",
    "# =================================\n",
    "needles_length = np.arange(0.1, 2.1, 0.1)\n",
    "\n",
    "# =================================\n",
    "# lists for saving data\n",
    "# =================================\n",
    "plot_p_list = []\n",
    "std_list = []\n",
    "actual_p_list = []\n",
    "\n",
    "\n",
    "for needle in needles_length:\n",
    "    tmp_p_list = []\n",
    "    for i in range(N_trials):\n",
    "        # =================================\n",
    "        # drawing random points uniform\n",
    "        # 1) x : distance of the needle center to the closest line [0, 1/2 unit]\n",
    "        # 2) theta : acute angle of the needle and the closest line [0, pi/2]\n",
    "        # =================================\n",
    "        x = np.random.uniform(low=0, high=1./2, size=N_total)\n",
    "        theta = np.random.uniform(low=0, high=np.pi/2, size=N_total)\n",
    "\n",
    "\n",
    "        # =================================\n",
    "        # needle intersects the line if l/2 >= x/sin(theta),\n",
    "        # therefore we can only compare l >= (2x)/sin(theta)\n",
    "        # =================================\n",
    "        distance = 2*x/np.sin(theta)\n",
    "\n",
    "        \n",
    "        # =================================\n",
    "        # check if the needles intersect the line\n",
    "        # =================================\n",
    "        does_intersect = distance<=needle\n",
    "        N_intersect = np.sum(does_intersect)\n",
    "        p_of_intersect = N_intersect/N_total\n",
    "        tmp_p_list.append(p_of_intersect)\n",
    "\n",
    "    # =================================\n",
    "    # Get MEAN & STD to plot\n",
    "    # =================================\n",
    "    plot_p_list.append(np.mean(tmp_p_list))\n",
    "    std_list.append(np.std(tmp_p_list))\n",
    "    \n",
    "    # =================================\n",
    "    # Analytical solution P\n",
    "    # =================================\n",
    "    actual_p_list.append(2*needle/np.pi)"
   ]
  },
  {
   "cell_type": "code",
   "execution_count": 165,
   "metadata": {
    "collapsed": false
   },
   "outputs": [
    {
     "data": {
      "image/png": "[encoded data removed]",
      "text/plain": [
       "<matplotlib.figure.Figure at 0x12487c350>"
      ]
     },
     "metadata": {},
     "output_type": "display_data"
    }
   ],
   "source": [
    "# =================================\n",
    "# Plot\n",
    "# =================================\n",
    "bar_width = 0.07\n",
    "opacity = 0.4\n",
    "error_config = {'ecolor': '0.3'}\n",
    "fig = plt.figure(figsize=(10, 6))\n",
    "\n",
    "plt.bar(needles_length, plot_p_list, bar_width, alpha=opacity, yerr=std_list, error_kw=error_config)\n",
    "plt.scatter(needles_length+0.01, actual_p_list, color='red', label='anaylytical solution')\n",
    "(_, caps, _) = plt.errorbar(needles_length+bar_width/2.0, plot_p_list, yerr=std_list, linestyle=\"None\")\n",
    "\n",
    "for cap in caps:\n",
    "    cap.set_color('black')\n",
    "    cap.set_markeredgewidth(1)\n",
    "\n",
    "\n",
    "plt.ylim(0, 1.4)\n",
    "plt.xlim(0.1, 2.1)\n",
    "plt.legend()\n",
    "plt.xlabel(\"l = needle length\")\n",
    "plt.ylabel(\"P(l)\")\n",
    "plt.title('Probability of the needle crossing a floor')\n",
    "plt.xticks(needles_length+bar_width/2.0, needles_length)\n",
    "plt.show()"
   ]
  },
  {
   "cell_type": "markdown",
   "metadata": {},
   "source": [
    "#### Q. Why do your results now diverge from the analytical solution given above? What would you need to do to correct the analytical formula? It is ok to just describe the integral you need to solve analytically, and why it looks this way. No need to actually do the integration by hand. "
   ]
  },
  {
   "cell_type": "markdown",
   "metadata": {},
   "source": [
    "Because the analytical solution $P = \\frac{2 \\cdot l}{t \\cdot \\pi}$ was derived with the assumption that $l < t $, so we could take integral over $x$ from 0 to $\\frac{l}{2}sin(\\theta)$ as $\\frac{l}{2}sin(\\theta) < \\frac{t}{2}$ . To correct the formula, we need to change the integral range of x based on $l$ value. Therefore, if $\\frac{l}{2}sin(\\theta) < \\frac{t}{2}$ then we take integral from 0 to $\\frac{l}{2}sin(\\theta)$, otherwise take integral from 0 to $\\frac{t}{2}$.\n",
    "$$P = \\int_{\\theta = 0}^\\frac{\\pi}{2} \\int_{x = 0}^{minimum(\\frac{l}{2}sin(\\theta), \\frac{t}{2})} \\frac{4}{t \\cdot \\pi} \\,dx \\,d\\theta$$"
   ]
  },
  {
   "cell_type": "markdown",
   "metadata": {},
   "source": [
    "# Problem 2: Simple Integration\n",
    "\n",
    "Write a function that estimates the value of a given one dimensional integral Monte Carlo style. \n",
    "The function should have the following signature:\n",
    "\n",
    "`estimate_integral_MC(function_to_integrate, lower_bound, upper_bound, number_of_samples, number_of_tries)`\n",
    "\n",
    "Where `number_of_tries` is used to calculate the standard deviation of the estimated value of the integral. \n",
    "\n",
    "Test your function by solving the following integrals:\n",
    "\n",
    "* $ \\int_0^3 x^{\\frac{x}{4}} \\,dx$\n",
    "* $ \\int_0^1 \\log x \\cdot \\log(1-x) \\,dx $.\n"
   ]
  },
  {
   "cell_type": "markdown",
   "metadata": {},
   "source": [
    "**Please answer this problem by adding cells here.**"
   ]
  },
  {
   "cell_type": "code",
   "execution_count": null,
   "metadata": {
    "collapsed": true
   },
   "outputs": [],
   "source": [
    "# define f(x) for our integral\n",
    "def f(x):\n",
    "    return x**2 + 4*x*np.sin(x) \n",
    "\n",
    "# and the anti-derivative for testing\n",
    "def anti_derivative_f(x): \n",
    "    return x**3/3.0+4.0*np.sin(x) - 4.0*x*np.cos(x) "
   ]
  },
  {
   "cell_type": "code",
   "execution_count": null,
   "metadata": {
    "collapsed": true
   },
   "outputs": [],
   "source": [
    "# upper and lower limits:\n",
    "a = 2;    \n",
    "b = 3; \n",
    "\n",
    "# use N draws \n",
    "N= 10000.0\n",
    "\n",
    "#1. N values uniformly drawn from a to b \n",
    "X = np.random.uniform(low=a, high=b, size=N) \n",
    "\n",
    "#2. Compute f(X)\n",
    "Y = f(X)   \n",
    "# and the average\n",
    "f_average = np.sum(Y)/ N\n",
    "\n",
    "#3. estimate value of integral\n",
    "estimate = (b-a) * f_average;\n",
    "\n",
    "#we compute the exact value for testing\n",
    "exact_val = anti_derivative_f(b) - anti_derivative_f(a)\n",
    "\n",
    "print \"Monte Carlo estimate = \",estimate\n",
    "print \"Exact value = \", exact_val\n"
   ]
  },
  {
   "cell_type": "markdown",
   "metadata": {},
   "source": [
    "# Problem 3: The Donut Estimation\n",
    "\n",
    "You bought a nice donut for yourself and decided to eat it in the evening while working on your AM207 assignments. \n",
    "Unfortunately you live in a shared apartment and your roommate got hold of the donut in the kitchen. It seems that he first\n",
    "cut off a small piece from the bottom, but then discovered how delicious the donut was and proceeded to cut off an additional large part. Discovering the donut theft in the evening you decide to confront your roommate, but you want to present hard facts and estimate how much of your original donut was left. \n",
    "\n",
    "Think of the donut as a 3D object(refer to the following picture). You model the donut as a torus centered at the origin`(0,0,0)` with outer radius `R=4` and inner radius `r=2`. Points $(x,y,z)$ inside the torus then are described by the following condition: \n",
    "$$z^2 + (\\sqrt{x^2 + y^2} - c)^2 \\leq a^2,$$\n",
    "where $c$ is the radius from origin to the center of the torus tube, and $a$ is the radius of the donut tube, the cross section of the donut tube is a circle.\n",
    "\n",
    "Your roomates cuts were first parallel to the x axis at y = -3, and then parallel to the y axis at x = 1.\n",
    "\n",
    "To estimate the weight of the donut you need to solve the integral\n",
    "\n",
    "$$ \\int_V \\rho \\,dx \\,dy \\,dz $$.\n",
    "\n",
    "Where $\\rho$ is the density of the donut and $V$ is the volume. As you are just interested in the percentage of the whole donut you got to eat, you can just assume $\\rho=1$.\n",
    "\n",
    "The weight of the whole original donut then was:\n",
    "\n",
    "$$ (\\pi a^2)\\cdot(2 \\cdot \\pi \\cdot c) $$\n",
    "\n",
    "What is the percentage of the donut your room mate left for you to eat? Don't forget to estimate the error as well!\n",
    "\n",
    "\n"
   ]
  },
  {
   "cell_type": "markdown",
   "metadata": {},
   "source": [
    "**Please answer this problem by adding cells here.**"
   ]
  },
  {
   "cell_type": "markdown",
   "metadata": {},
   "source": [
    "# Problem 4: New Years Resolutions\n",
    "\n",
    "A lot of people pledge to get more active in the new year. Unfortunately these resolutions often are short lived. We model the probability distribution of personal fitness over the months of a year with a skewed distribution:\n",
    "\n",
    "$ P(t) = \\lambda \\frac{(t-0.9)}{(t-1)^2 + 1}, \\; 1 \\leq t \\leq 12 $\n",
    "\n",
    "$ P(t) = 0 \\; otherwise$\n",
    "\n",
    "Where $t=1$ corresponds to January, $t=2$ corresponds to February, etc.. $\\lambda$ is a normalization constant, and t is measured in months ($t$ only takes integer values). \n",
    "\n",
    "* Plot the given distribution and compute the normalization factor\n",
    "* Sample $10^5$ samples from the distribution given above using rejection sampling. \n",
    "* Plot the histogram of the simulated samples and compare it to the true distribution (hint: It's easiest to use the normalization factor computed above and then plot the normed version of the histogram against it.\n",
    "* Repeat the first two steps using the inverse transform instead of rejection sampling. Do not bother with getting the anti-derivative analytically. Just build a lookup table for it. \n",
    "* Compare the execution time of both methods. Which one is faster and why? When would you prefer a lookup table and when an analytical solution to the anti-derivative?"
   ]
  },
  {
   "cell_type": "markdown",
   "metadata": {},
   "source": [
    "**Please answer this problem by adding cells here.**"
   ]
  },
  {
   "cell_type": "markdown",
   "metadata": {},
   "source": [
    "# Problem 5: Give it all!\n",
    "\n",
    "Estimate the following integral:\n",
    "\n",
    "$ \\int_{-1}^{1} \\int_{-1}^{1}  f(x,y) \\,dx \\,dy$, with \n",
    "\n",
    "$ g(x,y) = -(x+0.4)^2 - (y+0.4)^2 + 0.1 - (x-0.4)^2 - (y-0.4)^2 + 0.05$, and\n",
    "\n",
    "$ f(x,y) = \\max(g(x,y), 0)$\n",
    "\n",
    "\n",
    "First use basic Monte Carlo estimation. Then apply different variance reduction techniques we discussed in the lecture: \n",
    "* stratified sampling, \n",
    "* control variates, \n",
    "* importance sampling\n",
    "\n",
    "For each technique give a short explanation of how you are applying it to the problem. Implement the different techniques and then make a table and compare the results with respect to run-time and error in the estimate. \n",
    "\n",
    "You can choose to also either apply and explain antithetic variates, or explain why you don't think they are useful in this case, and how they could benefit of being combined with one of the techniques listed above. "
   ]
  },
  {
   "cell_type": "markdown",
   "metadata": {},
   "source": [
    "**Please answer this problem by adding cells here.**"
   ]
  }
 ],
 "metadata": {
  "kernelspec": {
   "display_name": "Python 2",
   "language": "python",
   "name": "python2"
  },
  "language_info": {
   "codemirror_mode": {
    "name": "ipython",
    "version": 2
   },
   "file_extension": ".py",
   "mimetype": "text/x-python",
   "name": "python",
   "nbconvert_exporter": "python",
   "pygments_lexer": "ipython2",
   "version": "2.7.11"
  }
 },
 "nbformat": 4,
 "nbformat_minor": 0
}
